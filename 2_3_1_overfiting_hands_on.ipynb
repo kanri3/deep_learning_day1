{
  "nbformat": 4,
  "nbformat_minor": 0,
  "metadata": {
    "kernelspec": {
      "display_name": "Python 3",
      "language": "python",
      "name": "python3"
    },
    "language_info": {
      "codemirror_mode": {
        "name": "ipython",
        "version": 3
      },
      "file_extension": ".py",
      "mimetype": "text/x-python",
      "name": "python",
      "nbconvert_exporter": "python",
      "pygments_lexer": "ipython3",
      "version": "3.6.3"
    },
    "colab": {
      "name": "2_3_1_overfiting_hands_on.ipynb",
      "provenance": [],
      "collapsed_sections": [],
      "include_colab_link": true
    }
  },
  "cells": [
    {
      "cell_type": "markdown",
      "metadata": {
        "id": "view-in-github",
        "colab_type": "text"
      },
      "source": [
        "<a href=\"https://colab.research.google.com/github/kanri3/deep_learning_day1_day2/blob/main/2_3_1_overfiting_hands_on.ipynb\" target=\"_parent\"><img src=\"https://colab.research.google.com/assets/colab-badge.svg\" alt=\"Open In Colab\"/></a>"
      ]
    },
    {
      "cell_type": "markdown",
      "metadata": {
        "id": "8cNl2QA_Rnv5"
      },
      "source": [
        "# 準備"
      ]
    },
    {
      "cell_type": "markdown",
      "metadata": {
        "id": "YkwjN1jNVAYy"
      },
      "source": [
        "## Googleドライブのマウント"
      ]
    },
    {
      "cell_type": "code",
      "metadata": {
        "id": "pvFXpiH3EVC1",
        "colab": {
          "base_uri": "https://localhost:8080/"
        },
        "outputId": "40df2aef-d0e9-4648-d37b-af8b09e374e5"
      },
      "source": [
        "from google.colab import drive\n",
        "drive.mount('/content/drive')"
      ],
      "execution_count": null,
      "outputs": [
        {
          "output_type": "stream",
          "text": [
            "Drive already mounted at /content/drive; to attempt to forcibly remount, call drive.mount(\"/content/drive\", force_remount=True).\n"
          ],
          "name": "stdout"
        }
      ]
    },
    {
      "cell_type": "markdown",
      "metadata": {
        "id": "3Ub7RYdeY6pK"
      },
      "source": [
        "## sys.pathの設定"
      ]
    },
    {
      "cell_type": "markdown",
      "metadata": {
        "id": "oql7L19rEsWi"
      },
      "source": [
        "以下では，Googleドライブのマイドライブ直下にDNN_codeフォルダを置くことを仮定しています．必要に応じて，パスを変更してください．"
      ]
    },
    {
      "cell_type": "code",
      "metadata": {
        "id": "7Ic2JzkvFX59"
      },
      "source": [
        "import sys\n",
        "sys.path.append('/content/drive/My Drive/DNN_code')\n",
        "# sys.path.append('/content/drive/My Drive/DNN_code/lesson_2')"
      ],
      "execution_count": null,
      "outputs": []
    },
    {
      "cell_type": "code",
      "metadata": {
        "colab": {
          "base_uri": "https://localhost:8080/"
        },
        "id": "WCN6TX4-5F03",
        "outputId": "fa3baff7-f1ea-416a-a8cb-77e0f285b0e2"
      },
      "source": [
        "import numpy as np\n",
        "from collections import OrderedDict\n",
        "from common import layers, optimizer\n",
        "from data.mnist import load_mnist\n",
        "import matplotlib.pyplot as plt\n",
        "from common.multi_layer_net import MultiLayerNet\n",
        "# from multi_layer_net import MultiLayerNet\n",
        "# from common import optimizer\n",
        "import copy\n",
        "\n",
        "(x_train, d_train), (x_test, d_test) = load_mnist(normalize = True)\n",
        "\n",
        "print(\"データ読み込み完了\")\n",
        "\n",
        "# 過学習を再現するために、学習データを削減\n",
        "# x_train = x_train[:200]\n",
        "# d_train = d_train[:200]\n",
        "x_train = x_train[:300]\n",
        "d_train = d_train[:300]\n",
        "\n",
        "network_init = MultiLayerNet(input_size=784, hidden_size_list = [100, 100, 100, 100, 100, 100], output_size = 10)\n",
        "\n",
        "optimizer_SDG_init = optimizer.SGD(learning_rate = 0.01)\n",
        "\n",
        "iters_num = 500\n",
        "# iters_num = 1000\n",
        "train_size = x_train.shape[0]\n",
        "# batch_size = 10\n",
        "batch_size = 100\n",
        "# plot_interval=50\n",
        "plot_interval=100\n",
        "\n",
        "# グラフ\n",
        "def draw_graph(title, legend_position):\n",
        "# def draw_graph(accuracies_train, accuracies_test, legend_position):\n",
        "    lists = range(0, iters_num + 1, plot_interval)\n",
        "    # lists = range(0, iters_num, plot_interval)\n",
        "    # print(\"lists, accuracies_train :\", lists, accuracies_train)\n",
        "    plt.plot(lists, accuracies_train, label=\"training set\")\n",
        "    plt.plot(lists, accuracies_test,  label=\"test set\")\n",
        "    plt.legend(loc = legend_position)\n",
        "    # plt.legend(loc=\"lower right\")\n",
        "    plt.title(title)\n",
        "    plt.xlabel(\"count\")\n",
        "    plt.ylabel(\"accuracy\")\n",
        "    plt.ylim(0, 1.0)\n",
        "    # グラフの表示\n",
        "    plt.show()"
      ],
      "execution_count": null,
      "outputs": [
        {
          "output_type": "stream",
          "text": [
            "データ読み込み完了\n"
          ],
          "name": "stdout"
        }
      ]
    },
    {
      "cell_type": "markdown",
      "metadata": {
        "id": "dYzVwNPlpQ4P"
      },
      "source": [
        "# overfiting"
      ]
    },
    {
      "cell_type": "code",
      "metadata": {
        "id": "i1UkQeoupQ4Q",
        "colab": {
          "base_uri": "https://localhost:8080/",
          "height": 506
        },
        "outputId": "9d835695-09c4-402b-a861-10ef7ea48a28"
      },
      "source": [
        "train_loss_list = []\n",
        "accuracies_train = []\n",
        "accuracies_test = []\n",
        "optimizer_SDG = copy.deepcopy(optimizer_SDG_init)\n",
        "network = copy.deepcopy(network_init)\n",
        "\n",
        "for i in range(iters_num):\n",
        "    batch_mask = np.random.choice(train_size, batch_size)\n",
        "    x_batch = x_train[batch_mask]\n",
        "    d_batch = d_train[batch_mask]\n",
        "\n",
        "    grad = network.gradient(x_batch, d_batch)\n",
        "    optimizer_SDG.update(network.params, grad)\n",
        "\n",
        "    loss = network.loss(x_batch, d_batch)\n",
        "    train_loss_list.append(loss)\n",
        "\n",
        "    if (i + 1) % plot_interval == 0 or i == 0:\n",
        "    # if (i + 1) % plot_interval == 0:\n",
        "        accr_train = network.accuracy(x_train, d_train)\n",
        "        accr_test = network.accuracy(x_test, d_test)\n",
        "        accuracies_train.append(accr_train)\n",
        "        accuracies_test.append(accr_test)\n",
        "        # s_format = format(accr_train, '.5f')\n",
        "        print('Generation: ' + str(i + 1) + '. 正答率(トレーニング) = ' + str(format(accr_train, '.5f')))\n",
        "        # print('Generation: ' + str(i + 1) + '. 正答率(トレーニング) = ' + str(accr_train))\n",
        "        print('                : ' + str(i + 1) + '. 正答率(テスト) = ' + str(format(accr_test, '.5f')))\n",
        "\n",
        "# グラフの表示\n",
        "draw_graph(\"over fitting!!\", \"lower right\")"
      ],
      "execution_count": null,
      "outputs": [
        {
          "output_type": "stream",
          "text": [
            "Generation: 1. 正答率(トレーニング) = 0.07667\n",
            "                : 1. 正答率(テスト) = 0.08870\n",
            "Generation: 100. 正答率(トレーニング) = 0.84667\n",
            "                : 100. 正答率(テスト) = 0.62980\n",
            "Generation: 200. 正答率(トレーニング) = 0.96000\n",
            "                : 200. 正答率(テスト) = 0.73550\n",
            "Generation: 300. 正答率(トレーニング) = 0.99000\n",
            "                : 300. 正答率(テスト) = 0.75480\n",
            "Generation: 400. 正答率(トレーニング) = 1.00000\n",
            "                : 400. 正答率(テスト) = 0.76010\n",
            "Generation: 500. 正答率(トレーニング) = 1.00000\n",
            "                : 500. 正答率(テスト) = 0.76210\n"
          ],
          "name": "stdout"
        },
        {
          "output_type": "display_data",
          "data": {
            "image/png": "[encoded data removed]",
            "text/plain": [
              "<Figure size 432x288 with 1 Axes>"
            ]
          },
          "metadata": {
            "tags": [],
            "needs_background": "light"
          }
        }
      ]
    },
    {
      "cell_type": "markdown",
      "metadata": {
        "id": "J143QSqnpQ4X"
      },
      "source": [
        "## weight decay\n",
        "### L2"
      ]
    },
    {
      "cell_type": "code",
      "metadata": {
        "id": "jbBEEaPUpQ4Z",
        "colab": {
          "base_uri": "https://localhost:8080/",
          "height": 506
        },
        "outputId": "c2b1bf9d-5298-49dd-a7e7-391c65481e2c"
      },
      "source": [
        "train_loss_list = []\n",
        "accuracies_train = []\n",
        "accuracies_test = []\n",
        "network = copy.deepcopy(network_init)\n",
        "learning_rate = 0.01\n",
        "hidden_layer_num = network.hidden_layer_num\n",
        "\n",
        "# 正則化強度設定 ハイパーパラメータ ===========================\n",
        "weight_decay_lambda = 0.1\n",
        "# ============================================================\n",
        "\n",
        "for i in range(iters_num):\n",
        "    batch_mask = np.random.choice(train_size, batch_size)\n",
        "    x_batch = x_train[batch_mask]\n",
        "    d_batch = d_train[batch_mask]\n",
        "\n",
        "    grad = network.gradient(x_batch, d_batch)\n",
        "    weight_decay = 0\n",
        "    \n",
        "    for idx in range(1, hidden_layer_num + 1):\n",
        "        grad['W' + str(idx)] = network.layers['Affine' + str(idx)].dW + weight_decay_lambda * network.params['W' + str(idx)]\n",
        "        grad['b' + str(idx)] = network.layers['Affine' + str(idx)].db\n",
        "        network.params['W' + str(idx)] -= learning_rate * grad['W' + str(idx)]\n",
        "        network.params['b' + str(idx)] -= learning_rate * grad['b' + str(idx)]        \n",
        "        weight_decay += 0.5 * weight_decay_lambda * np.sqrt(np.sum(network.params['W' + str(idx)] ** 2))\n",
        "\n",
        "    loss = network.loss(x_batch, d_batch) + weight_decay\n",
        "    train_loss_list.append(loss)        \n",
        "        \n",
        "    if (i + 1) % plot_interval == 0 or i == 0:\n",
        "        accr_train = network.accuracy(x_train, d_train)\n",
        "        accr_test = network.accuracy(x_test, d_test)\n",
        "        accuracies_train.append(accr_train)\n",
        "        accuracies_test.append(accr_test)\n",
        "        \n",
        "        print('Generation: ' + str(i+1) + '. 正答率(トレーニング) = ' + str(format(accr_train, '.5f')))\n",
        "        print('                : ' + str(i+1) + '. 正答率(テスト) = ' + str(format(accr_test, '.5f')))               \n",
        "\n",
        "# グラフの表示\n",
        "draw_graph(\"L2!!\", \"lower right\")"
      ],
      "execution_count": null,
      "outputs": [
        {
          "output_type": "stream",
          "text": [
            "Generation: 1. 正答率(トレーニング) = 0.08333\n",
            "                : 1. 正答率(テスト) = 0.08920\n",
            "Generation: 100. 正答率(トレーニング) = 0.66667\n",
            "                : 100. 正答率(テスト) = 0.50770\n",
            "Generation: 200. 正答率(トレーニング) = 0.85000\n",
            "                : 200. 正答率(テスト) = 0.68950\n",
            "Generation: 300. 正答率(トレーニング) = 0.88000\n",
            "                : 300. 正答率(テスト) = 0.70690\n",
            "Generation: 400. 正答率(トレーニング) = 0.92000\n",
            "                : 400. 正答率(テスト) = 0.75180\n",
            "Generation: 500. 正答率(トレーニング) = 0.90667\n",
            "                : 500. 正答率(テスト) = 0.74990\n"
          ],
          "name": "stdout"
        },
        {
          "output_type": "display_data",
          "data": {
            "image/png": "[encoded data removed]",
            "text/plain": [
              "<Figure size 432x288 with 1 Axes>"
            ]
          },
          "metadata": {
            "tags": [],
            "needs_background": "light"
          }
        }
      ]
    },
    {
      "cell_type": "markdown",
      "metadata": {
        "id": "FggnvzajpQ4c"
      },
      "source": [
        "### L1"
      ]
    },
    {
      "cell_type": "code",
      "metadata": {
        "id": "89ha__AQpQ4e",
        "colab": {
          "base_uri": "https://localhost:8080/",
          "height": 506
        },
        "outputId": "7a5998a3-1301-4eeb-b442-2dbdfebfba91"
      },
      "source": [
        "network = copy.deepcopy(network_init)\n",
        "train_loss_list = []\n",
        "accuracies_train = []\n",
        "accuracies_test = []\n",
        "learning_rate=0.1\n",
        "hidden_layer_num = network.hidden_layer_num\n",
        "# plot_interval=10\n",
        "\n",
        "# 正則化強度設定 ハイパーパラメータ ===========================\n",
        "weight_decay_lambda = 0.007\n",
        "# ============================================================\n",
        "\n",
        "for i in range(iters_num):\n",
        "    batch_mask = np.random.choice(train_size, batch_size)\n",
        "    x_batch = x_train[batch_mask]\n",
        "    d_batch = d_train[batch_mask]\n",
        "\n",
        "    grad = network.gradient(x_batch, d_batch)\n",
        "    weight_decay = 0\n",
        "    \n",
        "    for idx in range(1, hidden_layer_num + 1):\n",
        "        grad['W' + str(idx)] = network.layers['Affine' + str(idx)].dW + weight_decay_lambda * np.sign(network.params['W' + str(idx)])\n",
        "        grad['b' + str(idx)] = network.layers['Affine' + str(idx)].db\n",
        "        network.params['W' + str(idx)] -= learning_rate * grad['W' + str(idx)]\n",
        "        network.params['b' + str(idx)] -= learning_rate * grad['b' + str(idx)]        \n",
        "        weight_decay += weight_decay_lambda * np.sum(np.abs(network.params['W' + str(idx)]))\n",
        "\n",
        "    loss = network.loss(x_batch, d_batch) + weight_decay\n",
        "    train_loss_list.append(loss)        \n",
        "        \n",
        "    if (i + 1) % plot_interval == 0 or i == 0:\n",
        "        accr_train = network.accuracy(x_train, d_train)\n",
        "        accr_test = network.accuracy(x_test, d_test)\n",
        "        accuracies_train.append(accr_train)\n",
        "        accuracies_test.append(accr_test)\n",
        "        \n",
        "        print('Generation: ' + str(i+1) + '. 正答率(トレーニング) = ' + str(format(accr_train, '.5f')))\n",
        "        print('                : ' + str(i+1) + '. 正答率(テスト) = ' + str(format(accr_test, '.5f')))               \n",
        "\n",
        "# グラフの表示\n",
        "draw_graph(\"L1!!\", \"lower right\")"
      ],
      "execution_count": null,
      "outputs": [
        {
          "output_type": "stream",
          "text": [
            "Generation: 1. 正答率(トレーニング) = 0.17667\n",
            "                : 1. 正答率(テスト) = 0.14950\n",
            "Generation: 100. 正答率(トレーニング) = 0.70333\n",
            "                : 100. 正答率(テスト) = 0.49930\n",
            "Generation: 200. 正答率(トレーニング) = 0.64000\n",
            "                : 200. 正答率(テスト) = 0.52050\n",
            "Generation: 300. 正答率(トレーニング) = 0.72000\n",
            "                : 300. 正答率(テスト) = 0.56210\n",
            "Generation: 400. 正答率(トレーニング) = 0.77000\n",
            "                : 400. 正答率(テスト) = 0.61060\n",
            "Generation: 500. 正答率(トレーニング) = 0.78000\n",
            "                : 500. 正答率(テスト) = 0.61590\n"
          ],
          "name": "stdout"
        },
        {
          "output_type": "display_data",
          "data": {
            "image/png": "[encoded data removed]",
            "text/plain": [
              "<Figure size 432x288 with 1 Axes>"
            ]
          },
          "metadata": {
            "tags": [],
            "needs_background": "light"
          }
        }
      ]
    },
    {
      "cell_type": "markdown",
      "metadata": {
        "id": "nmdVHCf4pQ4h"
      },
      "source": [
        "## Dropout"
      ]
    },
    {
      "cell_type": "code",
      "metadata": {
        "id": "CwGTs1ktpQ4i"
      },
      "source": [
        "# class Dropout:\n",
        "#     def __init__(self, dropout_ratio=0.5):\n",
        "#         self.dropout_ratio = dropout_ratio\n",
        "#         self.mask = None\n",
        "\n",
        "#     def forward(self, x, train_flg=True):\n",
        "#         if train_flg:\n",
        "#             self.mask = np.random.rand(*x.shape) > self.dropout_ratio\n",
        "#             return x * self.mask\n",
        "#         else:\n",
        "#             return x * (1.0 - self.dropout_ratio)\n",
        "\n",
        "#     def backward(self, dout):\n",
        "#         return dout * self.mask"
      ],
      "execution_count": null,
      "outputs": []
    },
    {
      "cell_type": "code",
      "metadata": {
        "id": "tDyPfHnypQ4l",
        "colab": {
          "base_uri": "https://localhost:8080/",
          "height": 506
        },
        "outputId": "1ac1a7f9-e134-47c2-bac0-9f5f29e70430"
      },
      "source": [
        "from common import optimizer\n",
        "\n",
        "# ドロップアウト設定 ======================================\n",
        "use_dropout = True\n",
        "# dropout_ratio = 0.3\n",
        "dropout_ratio = 0.08\n",
        "# ====================================================\n",
        "\n",
        "network = MultiLayerNet(input_size=784, hidden_size_list=[100, 100, 100, 100, 100, 100], output_size=10,\n",
        "                        weight_decay_lambda=weight_decay_lambda, use_dropout = use_dropout, dropout_ratio = dropout_ratio)\n",
        "optimizer = optimizer.SGD(learning_rate=0.01)\n",
        "# optimizer = optimizer.Momentum(learning_rate=0.01, momentum=0.9)\n",
        "# optimizer = optimizer.AdaGrad(learning_rate=0.01)\n",
        "# optimizer = optimizer.Adam()\n",
        "\n",
        "train_loss_list = []\n",
        "accuracies_train = []\n",
        "accuracies_test = []\n",
        "# plot_interval=10\n",
        "\n",
        "for i in range(iters_num):\n",
        "    batch_mask = np.random.choice(train_size, batch_size)\n",
        "    x_batch = x_train[batch_mask]\n",
        "    d_batch = d_train[batch_mask]\n",
        "\n",
        "    grad = network.gradient(x_batch, d_batch)\n",
        "    optimizer.update(network.params, grad)\n",
        "\n",
        "    loss = network.loss(x_batch, d_batch)\n",
        "    train_loss_list.append(loss)    \n",
        "    \n",
        "    if (i+1) % plot_interval == 0 or i==0:\n",
        "        accr_train = network.accuracy(x_train, d_train)\n",
        "        accr_test = network.accuracy(x_test, d_test)\n",
        "        accuracies_train.append(accr_train)\n",
        "        accuracies_test.append(accr_test)\n",
        "\n",
        "        print('Generation: ' + str(i+1) + '. 正答率(トレーニング) = ' + str(format(accr_train,'.5f')))\n",
        "        print('                : ' + str(i+1) + '. 正答率(テスト) = ' + str(format(accr_test,'.5f')))        \n",
        "\n",
        "# グラフの表示\n",
        "draw_graph(\"drop out!!\", \"lower right\")"
      ],
      "execution_count": null,
      "outputs": [
        {
          "output_type": "stream",
          "text": [
            "Generation: 1. 正答率(トレーニング) = 0.12333\n",
            "                : 1. 正答率(テスト) = 0.12300\n",
            "Generation: 100. 正答率(トレーニング) = 0.52333\n",
            "                : 100. 正答率(テスト) = 0.38150\n",
            "Generation: 200. 正答率(トレーニング) = 0.75000\n",
            "                : 200. 正答率(テスト) = 0.57760\n",
            "Generation: 300. 正答率(トレーニング) = 0.82667\n",
            "                : 300. 正答率(テスト) = 0.66460\n",
            "Generation: 400. 正答率(トレーニング) = 0.91000\n",
            "                : 400. 正答率(テスト) = 0.70290\n",
            "Generation: 500. 正答率(トレーニング) = 0.94667\n",
            "                : 500. 正答率(テスト) = 0.73130\n"
          ],
          "name": "stdout"
        },
        {
          "output_type": "display_data",
          "data": {
            "image/png": "[encoded data removed]",
            "text/plain": [
              "<Figure size 432x288 with 1 Axes>"
            ]
          },
          "metadata": {
            "tags": [],
            "needs_background": "light"
          }
        }
      ]
    },
    {
      "cell_type": "markdown",
      "metadata": {
        "id": "QqLQuYOEpQ4p"
      },
      "source": [
        "## Dropout + L1"
      ]
    },
    {
      "cell_type": "code",
      "metadata": {
        "id": "DAQfDEQUpQ4p",
        "colab": {
          "base_uri": "https://localhost:8080/",
          "height": 506
        },
        "outputId": "568b7d7a-be16-4695-9c6e-fe7ece0600fa"
      },
      "source": [
        "# ドロップアウト設定 ======================================\n",
        "use_dropout = True\n",
        "dropout_ratio = 0.08\n",
        "# ====================================================\n",
        "\n",
        "network = MultiLayerNet(input_size=784, hidden_size_list=[100, 100, 100, 100, 100, 100], output_size=10,\n",
        "                        use_dropout = use_dropout, dropout_ratio = dropout_ratio)\n",
        "learning_rate=0.01\n",
        "\n",
        "train_loss_list = []\n",
        "accuracies_train = []\n",
        "accuracies_test = []\n",
        "hidden_layer_num = network.hidden_layer_num\n",
        "# plot_interval=10\n",
        "\n",
        "# 正則化強度設定 ハイパーパラメータ ==========================\n",
        "weight_decay_lambda=0.004\n",
        "# =============================================================\n",
        "\n",
        "for i in range(iters_num):\n",
        "    batch_mask = np.random.choice(train_size, batch_size)\n",
        "    x_batch = x_train[batch_mask]\n",
        "    d_batch = d_train[batch_mask]\n",
        "\n",
        "    grad = network.gradient(x_batch, d_batch)\n",
        "    weight_decay = 0\n",
        "    \n",
        "    for idx in range(1, hidden_layer_num+1):\n",
        "        grad['W' + str(idx)] = network.layers['Affine' + str(idx)].dW + weight_decay_lambda * np.sign(network.params['W' + str(idx)])\n",
        "        grad['b' + str(idx)] = network.layers['Affine' + str(idx)].db\n",
        "        network.params['W' + str(idx)] -= learning_rate * grad['W' + str(idx)]\n",
        "        network.params['b' + str(idx)] -= learning_rate * grad['b' + str(idx)]        \n",
        "        weight_decay += weight_decay_lambda * np.sum(np.abs(network.params['W' + str(idx)]))\n",
        "\n",
        "    loss = network.loss(x_batch, d_batch) + weight_decay\n",
        "    train_loss_list.append(loss)        \n",
        "        \n",
        "    if (i + 1) % plot_interval == 0 or i == 0:\n",
        "        accr_train = network.accuracy(x_train, d_train)\n",
        "        accr_test = network.accuracy(x_test, d_test)\n",
        "        accuracies_train.append(accr_train)\n",
        "        accuracies_test.append(accr_test)\n",
        "        \n",
        "        print('Generation: ' + str(i+1) + '. 正答率(トレーニング) = ' + str(format(accr_train,'.5f')))\n",
        "        print('                : ' + str(i+1) + '. 正答率(テスト) = ' + str(format(accr_test,'.5f')))               \n",
        "\n",
        "# グラフの表示\n",
        "draw_graph(\"drop out + L1!!\", \"lower right\")"
      ],
      "execution_count": null,
      "outputs": [
        {
          "output_type": "stream",
          "text": [
            "Generation: 1. 正答率(トレーニング) = 0.06667\n",
            "                : 1. 正答率(テスト) = 0.05980\n",
            "Generation: 100. 正答率(トレーニング) = 0.34333\n",
            "                : 100. 正答率(テスト) = 0.24030\n",
            "Generation: 200. 正答率(トレーニング) = 0.49333\n",
            "                : 200. 正答率(テスト) = 0.38530\n",
            "Generation: 300. 正答率(トレーニング) = 0.59333\n",
            "                : 300. 正答率(テスト) = 0.46160\n",
            "Generation: 400. 正答率(トレーニング) = 0.75667\n",
            "                : 400. 正答率(テスト) = 0.59440\n",
            "Generation: 500. 正答率(トレーニング) = 0.84000\n",
            "                : 500. 正答率(テスト) = 0.68620\n"
          ],
          "name": "stdout"
        },
        {
          "output_type": "display_data",
          "data": {
            "image/png": "[encoded data removed]",
            "text/plain": [
              "<Figure size 432x288 with 1 Axes>"
            ]
          },
          "metadata": {
            "tags": [],
            "needs_background": "light"
          }
        }
      ]
    }
  ]
}