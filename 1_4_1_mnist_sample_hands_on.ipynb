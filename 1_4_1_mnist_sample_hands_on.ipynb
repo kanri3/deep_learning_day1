{
  "nbformat": 4,
  "nbformat_minor": 0,
  "metadata": {
    "kernelspec": {
      "display_name": "Python 3",
      "language": "python",
      "name": "python3"
    },
    "language_info": {
      "codemirror_mode": {
        "name": "ipython",
        "version": 3
      },
      "file_extension": ".py",
      "mimetype": "text/x-python",
      "name": "python",
      "nbconvert_exporter": "python",
      "pygments_lexer": "ipython3",
      "version": "3.6.3"
    },
    "colab": {
      "name": "1_4_1_mnist_sample_hands_on.ipynb",
      "provenance": [],
      "collapsed_sections": [],
      "include_colab_link": true
    }
  },
  "cells": [
    {
      "cell_type": "markdown",
      "metadata": {
        "id": "view-in-github",
        "colab_type": "text"
      },
      "source": [
        "<a href=\"https://colab.research.google.com/github/kanri3/deep_learning_day1_day2/blob/main/1_4_1_mnist_sample_hands_on.ipynb\" target=\"_parent\"><img src=\"https://colab.research.google.com/assets/colab-badge.svg\" alt=\"Open In Colab\"/></a>"
      ]
    },
    {
      "cell_type": "markdown",
      "metadata": {
        "id": "8cNl2QA_Rnv5"
      },
      "source": [
        "# 準備"
      ]
    },
    {
      "cell_type": "markdown",
      "metadata": {
        "id": "YkwjN1jNVAYy"
      },
      "source": [
        "## Googleドライブのマウント"
      ]
    },
    {
      "cell_type": "code",
      "metadata": {
        "id": "pvFXpiH3EVC1",
        "colab": {
          "base_uri": "https://localhost:8080/"
        },
        "outputId": "03e68242-69fe-45fb-872c-34d3859c9a5f"
      },
      "source": [
        "from google.colab import drive\n",
        "drive.mount('/content/drive')"
      ],
      "execution_count": null,
      "outputs": [
        {
          "output_type": "stream",
          "text": [
            "Drive already mounted at /content/drive; to attempt to forcibly remount, call drive.mount(\"/content/drive\", force_remount=True).\n"
          ],
          "name": "stdout"
        }
      ]
    },
    {
      "cell_type": "markdown",
      "metadata": {
        "id": "3Ub7RYdeY6pK"
      },
      "source": [
        "## sys.pathの設定"
      ]
    },
    {
      "cell_type": "markdown",
      "metadata": {
        "id": "oql7L19rEsWi"
      },
      "source": [
        "以下では，Googleドライブのマイドライブ直下にDNN_codeフォルダを置くことを仮定しています．必要に応じて，パスを変更してください．"
      ]
    },
    {
      "cell_type": "code",
      "metadata": {
        "id": "7Ic2JzkvFX59"
      },
      "source": [
        "import sys\n",
        "sys.path.append('/content/drive/My Drive/DNN_code')"
      ],
      "execution_count": null,
      "outputs": []
    },
    {
      "cell_type": "markdown",
      "metadata": {
        "id": "ToUJok-EiuLx"
      },
      "source": [
        "# mnist"
      ]
    },
    {
      "cell_type": "code",
      "metadata": {
        "id": "AMva1WVaintz",
        "colab": {
          "base_uri": "https://localhost:8080/"
        },
        "outputId": "02cdf83f-b81b-41ee-8d93-6aa2e5feb072"
      },
      "source": [
        "import numpy as np\n",
        "from data.mnist import load_mnist\n",
        "import pickle\n",
        "from common import functions\n",
        "import matplotlib.pyplot as plt\n",
        "\n",
        "# mnistをロード\n",
        "(x_train, d_train), (x_test, d_test) = load_mnist(normalize=True, one_hot_label=True)\n",
        "train_size = len(x_train)\n",
        "\n",
        "print(\"データ読み込み完了\")\n",
        "\n",
        "# 重み初期値補正係数\n",
        "wieght_init = 0.01 # 変更してみよう\n",
        "#入力層サイズ\n",
        "input_layer_size = 784 # 変更してみよう\n",
        "#中間層サイズ\n",
        "hidden_layer_size = 40 # 変更してみよう\n",
        "#出力層サイズ\n",
        "output_layer_size = 10 # 変更してみよう\n",
        "# 繰り返し数\n",
        "iters_num = 1000 # 変更してみよう\n",
        "# ミニバッチサイズ\n",
        "batch_size = 100 # 変更してみよ\n",
        "# 学習率\n",
        "learning_rate = 0.1 # 変更してみよう\n",
        "# 描写頻度\n",
        "plot_interval=100\n",
        "\n",
        "# 初期設定\n",
        "def init_network():\n",
        "    network = {} \n",
        "    network['W1'] = wieght_init * np.random.randn(input_layer_size, hidden_layer_size)\n",
        "    network['W2'] = wieght_init * np.random.randn(hidden_layer_size, output_layer_size)\n",
        "    # 試してみよう_Xavierの初期値\n",
        "    # network['W1'] = np.random.randn(input_layer_size, hidden_layer_size) / np.sqrt(input_layer_size)\n",
        "    # network['W2'] = np.random.randn(hidden_layer_size, output_layer_size) / np.sqrt(hidden_layer_size)\n",
        "    # 試してみよう Heの初期値\n",
        "    # network['W1'] = np.random.randn(input_layer_size, hidden_layer_size) / np.sqrt(input_layer_size) * np.sqrt(2)\n",
        "    # network['W2'] = np.random.randn(hidden_layer_size, output_layer_size) / np.sqrt(hidden_layer_size) * np.sqrt(2)\n",
        "    network['b1'] = np.zeros(hidden_layer_size)\n",
        "    network['b2'] = np.zeros(output_layer_size)\n",
        "    return network"
      ],
      "execution_count": null,
      "outputs": [
        {
          "output_type": "stream",
          "text": [
            "データ読み込み完了\n"
          ],
          "name": "stdout"
        }
      ]
    },
    {
      "cell_type": "code",
      "metadata": {
        "id": "RNhfLqNpub0p"
      },
      "source": [
        "# 順伝播\n",
        "def forward(network, x):\n",
        "    W1, W2 = network['W1'], network['W2']\n",
        "    b1, b2  = network['b1'], network['b2']\n",
        "    u1 =  np.dot(x, W1) + b1\n",
        "    z1 = functions.relu(u1)\n",
        "    u2 =  np.dot(z1, W2) + b2\n",
        "    y = functions.softmax(u2)\n",
        "    return z1, y\n",
        "\n",
        "# 誤差逆伝播\n",
        "def backward(x, d, z1, y):\n",
        "    grad = {}\n",
        "    W1, W2 = network['W1'], network['W2']\n",
        "    b1, b2 = network['b1'], network['b2']    \n",
        "    # 出力層でのデルタ\n",
        "    delta2 = functions.d_softmax_with_loss(d, y)\n",
        "    # b2の勾配\n",
        "    grad['b2'] = np.sum(delta2, axis=0)\n",
        "    # W2の勾配\n",
        "    grad['W2'] = np.dot(z1.T, delta2)\n",
        "    # 1層でのデルタ\n",
        "    delta1 = np.dot(delta2, W2.T) * functions.d_relu(z1)\n",
        "    # b1の勾配\n",
        "    grad['b1'] = np.sum(delta1, axis=0)\n",
        "    # W1の勾配\n",
        "    grad['W1'] = np.dot(x.T, delta1)\n",
        "    return grad\n",
        "\n",
        "# パラメータの初期化\n",
        "network = init_network()\n",
        "\n",
        "accuracies_train = []\n",
        "accuracies_test = []\n",
        "\n",
        "# 正答率\n",
        "def accuracy(x, d):\n",
        "    z1, y = forward(network, x)\n",
        "    y = np.argmax(y, axis=1)\n",
        "    if d.ndim != 1 :\n",
        "      d = np.argmax(d, axis=1)\n",
        "    accuracy = np.sum(y == d) / float(x.shape[0])\n",
        "    return accuracy"
      ],
      "execution_count": null,
      "outputs": []
    },
    {
      "cell_type": "code",
      "metadata": {
        "id": "1Yqykojyint3",
        "colab": {
          "base_uri": "https://localhost:8080/",
          "height": 633
        },
        "outputId": "76be5f27-92fd-4b58-a229-46afffbfd6bd"
      },
      "source": [
        "for i in range(iters_num):\n",
        "    # ランダムにバッチを取得    \n",
        "    batch_mask = np.random.choice(train_size, batch_size)\n",
        "    # ミニバッチに対応する教師訓練画像データを取得    \n",
        "    x_batch = x_train[batch_mask]\n",
        "    # ミニバッチに対応する訓練正解ラベルデータを取得する\n",
        "    d_batch = d_train[batch_mask]\n",
        "    \n",
        "    z1, y = forward(network, x_batch)\n",
        "    grad = backward(x_batch, d_batch, z1, y)\n",
        "\n",
        "    if ( i + 1 ) % plot_interval == 0 :\n",
        "        accr_test = accuracy(x_test, d_test)\n",
        "        accuracies_test.append(accr_test)\n",
        "        \n",
        "        accr_train = accuracy(x_batch, d_batch)\n",
        "        accuracies_train.append(accr_train)\n",
        "\n",
        "        print('Generation: ' + str(i+1) + '. 正答率(トレーニング) = ' + str(accr_train))\n",
        "        print('                : ' + str(i+1) + '. 正答率(テスト) = ' + str(accr_test))\n",
        "\n",
        "    # パラメータに勾配適用\n",
        "    for key in ('W1', 'W2', 'b1', 'b2'):\n",
        "        network[key]  -= learning_rate * grad[key]\n",
        "\n",
        "lists = range(0, iters_num, plot_interval)\n",
        "plt.plot(lists, accuracies_train, label=\"training set\")\n",
        "plt.plot(lists, accuracies_test,  label=\"test set\")\n",
        "plt.legend(loc=\"lower right\")\n",
        "plt.title(\"accuracies\")\n",
        "# グラフの表示\n",
        "plt.show()"
      ],
      "execution_count": null,
      "outputs": [
        {
          "output_type": "stream",
          "text": [
            "Generation: 100. 正答率(トレーニング) = 0.67\n",
            "                : 100. 正答率(テスト) = 0.7059\n",
            "Generation: 200. 正答率(トレーニング) = 0.9\n",
            "                : 200. 正答率(テスト) = 0.8438\n",
            "Generation: 300. 正答率(トレーニング) = 0.85\n",
            "                : 300. 正答率(テスト) = 0.885\n",
            "Generation: 400. 正答率(トレーニング) = 0.92\n",
            "                : 400. 正答率(テスト) = 0.8959\n",
            "Generation: 500. 正答率(トレーニング) = 0.9\n",
            "                : 500. 正答率(テスト) = 0.9007\n",
            "Generation: 600. 正答率(トレーニング) = 0.87\n",
            "                : 600. 正答率(テスト) = 0.9072\n",
            "Generation: 700. 正答率(トレーニング) = 0.91\n",
            "                : 700. 正答率(テスト) = 0.9107\n",
            "Generation: 800. 正答率(トレーニング) = 0.91\n",
            "                : 800. 正答率(テスト) = 0.9138\n",
            "Generation: 900. 正答率(トレーニング) = 0.86\n",
            "                : 900. 正答率(テスト) = 0.9179\n",
            "Generation: 1000. 正答率(トレーニング) = 0.91\n",
            "                : 1000. 正答率(テスト) = 0.9179\n"
          ],
          "name": "stdout"
        },
        {
          "output_type": "display_data",
          "data": {
            "image/png": "[encoded data removed]",
            "text/plain": [
              "<Figure size 432x288 with 1 Axes>"
            ]
          },
          "metadata": {
            "tags": [],
            "needs_background": "light"
          }
        }
      ]
    }
  ]
}