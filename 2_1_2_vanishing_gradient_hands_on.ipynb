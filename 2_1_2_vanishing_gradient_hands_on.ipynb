{
  "nbformat": 4,
  "nbformat_minor": 0,
  "metadata": {
    "kernelspec": {
      "display_name": "Python 3",
      "language": "python",
      "name": "python3"
    },
    "language_info": {
      "codemirror_mode": {
        "name": "ipython",
        "version": 3
      },
      "file_extension": ".py",
      "mimetype": "text/x-python",
      "name": "python",
      "nbconvert_exporter": "python",
      "pygments_lexer": "ipython3",
      "version": "3.6.3"
    },
    "colab": {
      "name": "2_1_2_vanishing_gradient_hands_on.ipynb",
      "provenance": [],
      "collapsed_sections": [],
      "include_colab_link": true
    }
  },
  "cells": [
    {
      "cell_type": "markdown",
      "metadata": {
        "id": "view-in-github",
        "colab_type": "text"
      },
      "source": [
        "<a href=\"https://colab.research.google.com/github/kanri3/deep_learning_day1_day2/blob/main/2_1_2_vanishing_gradient_hands_on.ipynb\" target=\"_parent\"><img src=\"https://colab.research.google.com/assets/colab-badge.svg\" alt=\"Open In Colab\"/></a>"
      ]
    },
    {
      "cell_type": "markdown",
      "metadata": {
        "id": "8cNl2QA_Rnv5"
      },
      "source": [
        "# 準備"
      ]
    },
    {
      "cell_type": "markdown",
      "metadata": {
        "id": "YkwjN1jNVAYy"
      },
      "source": [
        "## Googleドライブのマウント"
      ]
    },
    {
      "cell_type": "code",
      "metadata": {
        "id": "pvFXpiH3EVC1",
        "colab": {
          "base_uri": "https://localhost:8080/"
        },
        "outputId": "3ad4c4a5-4f2f-40b2-84ed-0b0ddedf6995"
      },
      "source": [
        "from google.colab import drive\n",
        "drive.mount('/content/drive')"
      ],
      "execution_count": null,
      "outputs": [
        {
          "output_type": "stream",
          "text": [
            "Drive already mounted at /content/drive; to attempt to forcibly remount, call drive.mount(\"/content/drive\", force_remount=True).\n"
          ],
          "name": "stdout"
        }
      ]
    },
    {
      "cell_type": "markdown",
      "metadata": {
        "id": "3Ub7RYdeY6pK"
      },
      "source": [
        "## sys.pathの設定"
      ]
    },
    {
      "cell_type": "markdown",
      "metadata": {
        "id": "oql7L19rEsWi"
      },
      "source": [
        "以下では，Googleドライブのマイドライブ直下にDNN_codeフォルダを置くことを仮定しています．必要に応じて，パスを変更してください．"
      ]
    },
    {
      "cell_type": "code",
      "metadata": {
        "id": "7Ic2JzkvFX59"
      },
      "source": [
        "import sys\n",
        "sys.path.append('/content/drive/My Drive/DNN_code')"
      ],
      "execution_count": null,
      "outputs": []
    },
    {
      "cell_type": "markdown",
      "metadata": {
        "id": "aEP7EDibgeIY"
      },
      "source": [
        "# vanishing gradient"
      ]
    },
    {
      "cell_type": "markdown",
      "metadata": {
        "id": "pcE-bRE4L4Fz"
      },
      "source": [
        "指摘  \n",
        "sigmoid - gauss　← 意図不明  \n",
        "weightのつづりが間違っています"
      ]
    },
    {
      "cell_type": "code",
      "metadata": {
        "colab": {
          "base_uri": "https://localhost:8080/"
        },
        "id": "DvNn-_Ct-b3l",
        "outputId": "46acdfe0-0d44-4b74-c339-eec9ac0ed233"
      },
      "source": [
        "import numpy as np\n",
        "from common import layers\n",
        "from collections import OrderedDict\n",
        "from common import functions\n",
        "from data.mnist import load_mnist\n",
        "import matplotlib.pyplot as plt\n",
        "\n",
        "# mnistをロード\n",
        "# x_は 画像データ 、d_は 教師ラベルデータ で、trainは学習用データ、testはモデルの性能を評価する際に使用するデータ\n",
        "(x_train, d_train), (x_test, d_test) = load_mnist(normalize=True, one_hot_label=True)\n",
        "train_size = len(x_train)\n",
        "\n",
        "print(\"x_train:\", x_train)\n",
        "print(\"d_train:\", d_train)\n",
        "print(\"x_test:\", x_test)\n",
        "print(\"d_test:\", d_test)\n",
        "print(\"x_train.shape:\", x_train.shape)\n",
        "print(\"d_train.shape:\", d_train.shape)\n",
        "print(\"x_test.shape:\", x_test.shape)\n",
        "print(\"d_test.shape:\", d_test.shape)\n",
        "\n",
        "print(\"データ読み込み完了\")\n",
        "\n",
        "# 重み初期値補正係数\n",
        "weight_init = 0.01\n",
        "#入力層サイズ\n",
        "input_layer_size = 784\n",
        "#中間層サイズ\n",
        "hidden_layer_1_size = 40\n",
        "hidden_layer_2_size = 20\n",
        "\n",
        "#出力層サイズ\n",
        "output_layer_size = 10\n",
        "# 繰り返し数\n",
        "iters_num = 2000\n",
        "# ミニバッチサイズ\n",
        "batch_size = 100\n",
        "# 学習率\n",
        "learning_rate = 0.1\n",
        "# 描写頻度\n",
        "plot_interval=200"
      ],
      "execution_count": null,
      "outputs": [
        {
          "output_type": "stream",
          "text": [
            "x_train: [[0. 0. 0. ... 0. 0. 0.]\n",
            " [0. 0. 0. ... 0. 0. 0.]\n",
            " [0. 0. 0. ... 0. 0. 0.]\n",
            " ...\n",
            " [0. 0. 0. ... 0. 0. 0.]\n",
            " [0. 0. 0. ... 0. 0. 0.]\n",
            " [0. 0. 0. ... 0. 0. 0.]]\n",
            "d_train: [[0. 0. 0. ... 0. 0. 0.]\n",
            " [1. 0. 0. ... 0. 0. 0.]\n",
            " [0. 0. 0. ... 0. 0. 0.]\n",
            " ...\n",
            " [0. 0. 0. ... 0. 0. 0.]\n",
            " [0. 0. 0. ... 0. 0. 0.]\n",
            " [0. 0. 0. ... 0. 1. 0.]]\n",
            "x_test: [[0. 0. 0. ... 0. 0. 0.]\n",
            " [0. 0. 0. ... 0. 0. 0.]\n",
            " [0. 0. 0. ... 0. 0. 0.]\n",
            " ...\n",
            " [0. 0. 0. ... 0. 0. 0.]\n",
            " [0. 0. 0. ... 0. 0. 0.]\n",
            " [0. 0. 0. ... 0. 0. 0.]]\n",
            "d_test: [[0. 0. 0. ... 1. 0. 0.]\n",
            " [0. 0. 1. ... 0. 0. 0.]\n",
            " [0. 1. 0. ... 0. 0. 0.]\n",
            " ...\n",
            " [0. 0. 0. ... 0. 0. 0.]\n",
            " [0. 0. 0. ... 0. 0. 0.]\n",
            " [0. 0. 0. ... 0. 0. 0.]]\n",
            "x_train.shape: (60000, 784)\n",
            "d_train.shape: (60000, 10)\n",
            "x_test.shape: (10000, 784)\n",
            "d_test.shape: (10000, 10)\n",
            "データ読み込み完了\n"
          ],
          "name": "stdout"
        }
      ]
    },
    {
      "cell_type": "code",
      "metadata": {
        "id": "P-ERutHhNQGg"
      },
      "source": [
        "# 初期設定\n",
        "def init_network():\n",
        "    network = {} \n",
        "    network['W1'] = weight_init * np.random.randn(input_layer_size, hidden_layer_1_size)\n",
        "    network['W2'] = weight_init * np.random.randn(hidden_layer_1_size, hidden_layer_2_size)\n",
        "    network['W3'] = weight_init * np.random.randn(hidden_layer_2_size, output_layer_size)\n",
        "    network['b1'] = np.zeros(hidden_layer_1_size)\n",
        "    network['b2'] = np.zeros(hidden_layer_2_size)\n",
        "    network['b3'] = np.zeros(output_layer_size)\n",
        "    return network\n",
        "\n",
        "# 順伝播\n",
        "def forward(network, x, hidden_f):\n",
        "# def forward(network, x):\n",
        "    W1, W2, W3 = network['W1'], network['W2'], network['W3']\n",
        "    b1, b2, b3 = network['b1'], network['b2'], network['b3']\n",
        "    # hidden_f = functions.sigmoid\n",
        "    u1 =  np.dot(x, W1) + b1\n",
        "    z1 = hidden_f(u1)\n",
        "    u2 =  np.dot(z1, W2) + b2\n",
        "    z2 = hidden_f(u2)\n",
        "    u3 =  np.dot(z2, W3) + b3\n",
        "    y = functions.softmax(u3)\n",
        "    return z1, z2, y\n",
        "\n",
        "# 誤差逆伝播\n",
        "def backward(x, d, z1, z2, y, hidden_d_f):\n",
        "# def backward(x, d, z1, z2, y):\n",
        "    grad = {}\n",
        "    W1, W2, W3 = network['W1'], network['W2'], network['W3']\n",
        "    b1, b2, b3 = network['b1'], network['b2'], network['b3']\n",
        "    # hidden_d_f = functions.d_sigmoid\n",
        "    last_d_f = functions.d_softmax_with_loss\n",
        "    # 出力層でのデルタ\n",
        "    delta3 = last_d_f(d, y)\n",
        "    # b3の勾配\n",
        "    grad['b3'] = np.sum(delta3, axis=0)\n",
        "    # W3の勾配\n",
        "    grad['W3'] = np.dot(z2.T, delta3)\n",
        "    # 2層でのデルタ\n",
        "    delta2 = np.dot(delta3, W3.T) * hidden_d_f(z2)\n",
        "    # b2の勾配\n",
        "    grad['b2'] = np.sum(delta2, axis=0)\n",
        "    # W2の勾配\n",
        "    grad['W2'] = np.dot(z1.T, delta2)\n",
        "    # 1層でのデルタ\n",
        "    delta1 = np.dot(delta2, W2.T) * hidden_d_f(z1)\n",
        "    # b1の勾配\n",
        "    grad['b1'] = np.sum(delta1, axis=0)\n",
        "    # W1の勾配\n",
        "    grad['W1'] = np.dot(x.T, delta1)\n",
        "    return grad\n",
        "\n",
        "# 正答率\n",
        "def accuracy(x, d, hidden_f):\n",
        "# def accuracy(x, d):\n",
        "    z1, z2, y = forward(network, x, hidden_f)\n",
        "    y = np.argmax(y, axis=1)\n",
        "    if d.ndim != 1 : d = np.argmax(d, axis=1)\n",
        "    accuracy = np.sum(y == d) / float(x.shape[0])\n",
        "    return accuracy\n",
        "\n",
        "# グラフ\n",
        "def draw_graph(lists, accuracies_train, accuracies_test, legend_position):\n",
        "    lists = range(0, iters_num, plot_interval)\n",
        "    plt.plot(lists, accuracies_train, label=\"training set\")\n",
        "    plt.plot(lists, accuracies_test,  label=\"test set\")\n",
        "    plt.legend(loc = legend_position)\n",
        "    # plt.legend(loc=\"lower right\")\n",
        "    plt.title(\"accuracy\")\n",
        "    plt.xlabel(\"count\")\n",
        "    plt.ylabel(\"accuracy\")\n",
        "    plt.ylim(0, 1.0)\n",
        "    # グラフの表示\n",
        "    plt.show()"
      ],
      "execution_count": null,
      "outputs": []
    },
    {
      "cell_type": "markdown",
      "metadata": {
        "id": "AGgP5iAHgeIZ"
      },
      "source": [
        "## sigmoid"
      ]
    },
    {
      "cell_type": "code",
      "metadata": {
        "id": "Xew8ajdYgeIa",
        "colab": {
          "base_uri": "https://localhost:8080/",
          "height": 1000
        },
        "outputId": "33b88f3e-8f52-4687-f991-4cd4699ccac4"
      },
      "source": [
        "# パラメータの初期化\n",
        "network = init_network()\n",
        "accuracies_train = []\n",
        "accuracies_test = []\n",
        "\n",
        "# 正答率（何やってる？デバッグ）\n",
        "def accuracy_trace(x, d, hidden_f, i):\n",
        "# def accuracy(x, d):\n",
        "    z1, z2, y = forward(network, x, hidden_f)\n",
        "    if i<500:\n",
        "      print(\"i:\", i)\n",
        "      print(\"x.shape:\", x.shape)\n",
        "      print(\"y.shape:\", y.shape)\n",
        "    y = np.argmax(y, axis=1)\n",
        "    if i<500:\n",
        "      print(\"y.shape:\", y.shape)\n",
        "      print(\"d.shape:\", d.shape)\n",
        "      # print(\"y:\", y)\n",
        "      # print(\"d:\", d)\n",
        "    if d.ndim != 1 : d = np.argmax(d, axis=1)\n",
        "    if i<500:\n",
        "      print(\"np.sum(y == d):\", np.sum(y == d))\n",
        "      print(\"float(x.shape[0]):\", float(x.shape[0]))\n",
        "    accuracy = np.sum(y == d) / float(x.shape[0])\n",
        "    return accuracy\n",
        "\n",
        "for i in range(iters_num):\n",
        "    # ランダムにバッチを取得    \n",
        "    batch_mask = np.random.choice(train_size, batch_size)\n",
        "    # ミニバッチに対応する教師訓練画像データを取得    \n",
        "    x_batch = x_train[batch_mask]\n",
        "    # ミニバッチに対応する訓練正解ラベルデータを取得する\n",
        "    d_batch = d_train[batch_mask]\n",
        "    \n",
        "    z1, z2, y = forward(network, x_batch, functions.sigmoid)\n",
        "    grad = backward(x_batch, d_batch, z1, z2, y, functions.d_sigmoid)\n",
        "\n",
        "    if ( i + 1 ) % plot_interval == 0 :\n",
        "        accr_test = accuracy_trace(x_test, d_test, functions.sigmoid, i)\n",
        "        accuracies_test.append(accr_test)\n",
        "        \n",
        "        accr_train = accuracy_trace(x_batch, d_batch, functions.sigmoid, i)\n",
        "        accuracies_train.append(accr_train)\n",
        "\n",
        "        print('Generation: ' + str(i+1) + '. 正答率(トレーニング) = ' + str(accr_train))\n",
        "        print('                : ' + str(i+1) + '. 正答率(テスト) = ' + str(accr_test))\n",
        "\n",
        "    # パラメータに勾配適用\n",
        "    for key in ('W1', 'W2', 'W3', 'b1', 'b2', 'b3'):\n",
        "        network[key]  -= learning_rate * grad[key]\n",
        "\n",
        "# グラフの表示\n",
        "draw_graph(lists, accuracies_train, accuracies_test, \"upper right\")"
      ],
      "execution_count": null,
      "outputs": [
        {
          "output_type": "stream",
          "text": [
            "i: 199\n",
            "x.shape: (10000, 784)\n",
            "y.shape: (10000, 10)\n",
            "y.shape: (10000,)\n",
            "d.shape: (10000, 10)\n",
            "np.sum(y == d): 1135\n",
            "float(x.shape[0]): 10000.0\n",
            "i: 199\n",
            "x.shape: (100, 784)\n",
            "y.shape: (100, 10)\n",
            "y.shape: (100,)\n",
            "d.shape: (100, 10)\n",
            "np.sum(y == d): 7\n",
            "float(x.shape[0]): 100.0\n",
            "Generation: 200. 正答率(トレーニング) = 0.07\n",
            "                : 200. 正答率(テスト) = 0.1135\n",
            "i: 399\n",
            "x.shape: (10000, 784)\n",
            "y.shape: (10000, 10)\n",
            "y.shape: (10000,)\n",
            "d.shape: (10000, 10)\n",
            "np.sum(y == d): 1135\n",
            "float(x.shape[0]): 10000.0\n",
            "i: 399\n",
            "x.shape: (100, 784)\n",
            "y.shape: (100, 10)\n",
            "y.shape: (100,)\n",
            "d.shape: (100, 10)\n",
            "np.sum(y == d): 12\n",
            "float(x.shape[0]): 100.0\n",
            "Generation: 400. 正答率(トレーニング) = 0.12\n",
            "                : 400. 正答率(テスト) = 0.1135\n",
            "Generation: 600. 正答率(トレーニング) = 0.1\n",
            "                : 600. 正答率(テスト) = 0.1032\n",
            "Generation: 800. 正答率(トレーニング) = 0.17\n",
            "                : 800. 正答率(テスト) = 0.1135\n",
            "Generation: 1000. 正答率(トレーニング) = 0.13\n",
            "                : 1000. 正答率(テスト) = 0.1135\n",
            "Generation: 1200. 正答率(トレーニング) = 0.09\n",
            "                : 1200. 正答率(テスト) = 0.1135\n",
            "Generation: 1400. 正答率(トレーニング) = 0.14\n",
            "                : 1400. 正答率(テスト) = 0.1028\n",
            "Generation: 1600. 正答率(トレーニング) = 0.12\n",
            "                : 1600. 正答率(テスト) = 0.101\n",
            "Generation: 1800. 正答率(トレーニング) = 0.14\n",
            "                : 1800. 正答率(テスト) = 0.1135\n",
            "Generation: 2000. 正答率(トレーニング) = 0.11\n",
            "                : 2000. 正答率(テスト) = 0.1135\n"
          ],
          "name": "stdout"
        },
        {
          "output_type": "display_data",
          "data": {
            "image/png": "[encoded data removed]",
            "text/plain": [
              "<Figure size 432x288 with 1 Axes>"
            ]
          },
          "metadata": {
            "tags": [],
            "needs_background": "light"
          }
        }
      ]
    },
    {
      "cell_type": "markdown",
      "metadata": {
        "id": "eMpi7UPxgeIg"
      },
      "source": [
        "## ReLU（Rectified Linear Unit）"
      ]
    },
    {
      "cell_type": "markdown",
      "metadata": {
        "id": "CRDtU3NWKRLa"
      },
      "source": [
        "ReLU - gaussって書いてあったの意図不明"
      ]
    },
    {
      "cell_type": "code",
      "metadata": {
        "id": "0wxFH8SogeIh",
        "colab": {
          "base_uri": "https://localhost:8080/",
          "height": 647
        },
        "outputId": "530b2c9f-9cad-433f-f163-35760292e76e"
      },
      "source": [
        "# パラメータの初期化\n",
        "network = init_network()\n",
        "accuracies_train = []\n",
        "accuracies_test = []\n",
        "\n",
        "for i in range(iters_num):\n",
        "    # ランダムにバッチを取得    \n",
        "    batch_mask = np.random.choice(train_size, batch_size)\n",
        "    # ミニバッチに対応する教師訓練画像データを取得    \n",
        "    x_batch = x_train[batch_mask]\n",
        "    # ミニバッチに対応する訓練正解ラベルデータを取得する\n",
        "    d_batch = d_train[batch_mask]\n",
        "\n",
        "    # z1, z2, y = forward(network, x_batch)\n",
        "    # grad = backward(x_batch, d_batch, z1, z2, y)\n",
        "    z1, z2, y = forward(network, x_batch, functions.relu)\n",
        "    grad = backward(x_batch, d_batch, z1, z2, y, functions.d_relu)\n",
        "\n",
        "    if ( i + 1 ) % plot_interval == 0 :\n",
        "        accr_test = accuracy(x_test, d_test, functions.relu)\n",
        "        accuracies_test.append(accr_test)\n",
        "        \n",
        "        accr_train = accuracy(x_batch, d_batch, functions.relu)\n",
        "        accuracies_train.append(accr_train)\n",
        "\n",
        "        print('Generation: ' + str(i+1) + '. 正答率(トレーニング) = ' + str(accr_train))\n",
        "        print('                : ' + str(i+1) + '. 正答率(テスト) = ' + str(accr_test))\n",
        "        \n",
        "    # パラメータに勾配適用\n",
        "    for key in ('W1', 'W2', 'W3', 'b1', 'b2', 'b3'):\n",
        "        network[key]  -= learning_rate * grad[key]\n",
        "\n",
        "# グラフの表示\n",
        "draw_graph(lists, accuracies_train, accuracies_test, \"lower right\")"
      ],
      "execution_count": null,
      "outputs": [
        {
          "output_type": "stream",
          "text": [
            "Generation: 200. 正答率(トレーニング) = 0.11\n",
            "                : 200. 正答率(テスト) = 0.1135\n",
            "Generation: 400. 正答率(トレーニング) = 0.12\n",
            "                : 400. 正答率(テスト) = 0.1318\n",
            "Generation: 600. 正答率(トレーニング) = 0.32\n",
            "                : 600. 正答率(テスト) = 0.3089\n",
            "Generation: 800. 正答率(トレーニング) = 0.73\n",
            "                : 800. 正答率(テスト) = 0.6821\n",
            "Generation: 1000. 正答率(トレーニング) = 0.82\n",
            "                : 1000. 正答率(テスト) = 0.8254\n",
            "Generation: 1200. 正答率(トレーニング) = 0.82\n",
            "                : 1200. 正答率(テスト) = 0.8609\n",
            "Generation: 1400. 正答率(トレーニング) = 0.92\n",
            "                : 1400. 正答率(テスト) = 0.8778\n",
            "Generation: 1600. 正答率(トレーニング) = 0.89\n",
            "                : 1600. 正答率(テスト) = 0.9037\n",
            "Generation: 1800. 正答率(トレーニング) = 0.96\n",
            "                : 1800. 正答率(テスト) = 0.9182\n",
            "Generation: 2000. 正答率(トレーニング) = 0.98\n",
            "                : 2000. 正答率(テスト) = 0.9253\n"
          ],
          "name": "stdout"
        },
        {
          "output_type": "display_data",
          "data": {
            "image/png": "[encoded data removed]",
            "text/plain": [
              "<Figure size 432x288 with 1 Axes>"
            ]
          },
          "metadata": {
            "tags": [],
            "needs_background": "light"
          }
        }
      ]
    },
    {
      "cell_type": "markdown",
      "metadata": {
        "id": "TltcZf4tgeIj"
      },
      "source": [
        "## sigmoid - Xavier"
      ]
    },
    {
      "cell_type": "code",
      "metadata": {
        "id": "ZOu3JFUtgeIk",
        "colab": {
          "base_uri": "https://localhost:8080/",
          "height": 647
        },
        "outputId": "9c7e81c9-0594-4ed0-da07-683189459d84"
      },
      "source": [
        "# 初期設定\n",
        "def init_network():\n",
        "    network = {} \n",
        "    ###########  変更箇所  ##############\n",
        "    # Xavierの初期値\n",
        "    network['W1'] = np.random.randn(input_layer_size, hidden_layer_1_size) / (np.sqrt(input_layer_size))\n",
        "    network['W2'] = np.random.randn(hidden_layer_1_size, hidden_layer_2_size) / (np.sqrt(hidden_layer_1_size))\n",
        "    network['W3'] = np.random.randn(hidden_layer_2_size, output_layer_size) / (np.sqrt(hidden_layer_2_size))\n",
        "    #################################\n",
        "    network['b1'] = np.zeros(hidden_layer_1_size)\n",
        "    network['b2'] = np.zeros(hidden_layer_2_size)\n",
        "    network['b3'] = np.zeros(output_layer_size)\n",
        "    return network\n",
        "\n",
        "# パラメータの初期化\n",
        "network = init_network()\n",
        "accuracies_train = []\n",
        "accuracies_test = []\n",
        "\n",
        "for i in range(iters_num):\n",
        "    # ランダムにバッチを取得    \n",
        "    batch_mask = np.random.choice(train_size, batch_size)\n",
        "    # ミニバッチに対応する教師訓練画像データを取得    \n",
        "    x_batch = x_train[batch_mask]\n",
        "    # ミニバッチに対応する訓練正解ラベルデータを取得する\n",
        "    d_batch = d_train[batch_mask]\n",
        "\n",
        "\n",
        "    z1, z2, y = forward(network, x_batch, functions.sigmoid)\n",
        "    grad = backward(x_batch, d_batch, z1, z2, y, functions.d_sigmoid)\n",
        "    # z1, z2, y = forward(network, x_batch)\n",
        "    # grad = backward(x_batch, d_batch, z1, z2, y)\n",
        "\n",
        "    if ( i + 1 ) % plot_interval == 0:\n",
        "        accr_test = accuracy(x_test, d_test, functions.sigmoid)\n",
        "        # accr_test = accuracy(x_test, d_test)\n",
        "        accuracies_test.append(accr_test)\n",
        "        \n",
        "        accr_train = accuracy(x_batch, d_batch, functions.sigmoid)\n",
        "        # accr_train = accuracy(x_batch, d_batch)\n",
        "        accuracies_train.append(accr_train)\n",
        "\n",
        "        print('Generation: ' + str(i+1) + '. 正答率(トレーニング) = ' + str(accr_train))\n",
        "        print('                : ' + str(i+1) + '. 正答率(テスト) = ' + str(accr_test))\n",
        "        \n",
        "    # パラメータに勾配適用\n",
        "    for key in ('W1', 'W2', 'W3', 'b1', 'b2', 'b3'):\n",
        "        network[key]  -= learning_rate * grad[key]\n",
        "\n",
        "# グラフの表示\n",
        "draw_graph(lists, accuracies_train, accuracies_test, \"lower right\")"
      ],
      "execution_count": null,
      "outputs": [
        {
          "output_type": "stream",
          "text": [
            "Generation: 200. 正答率(トレーニング) = 0.49\n",
            "                : 200. 正答率(テスト) = 0.4696\n",
            "Generation: 400. 正答率(トレーニング) = 0.56\n",
            "                : 400. 正答率(テスト) = 0.5924\n",
            "Generation: 600. 正答率(トレーニング) = 0.62\n",
            "                : 600. 正答率(テスト) = 0.6577\n",
            "Generation: 800. 正答率(トレーニング) = 0.62\n",
            "                : 800. 正答率(テスト) = 0.6766\n",
            "Generation: 1000. 正答率(トレーニング) = 0.71\n",
            "                : 1000. 正答率(テスト) = 0.7215\n",
            "Generation: 1200. 正答率(トレーニング) = 0.8\n",
            "                : 1200. 正答率(テスト) = 0.7559\n",
            "Generation: 1400. 正答率(トレーニング) = 0.76\n",
            "                : 1400. 正答率(テスト) = 0.777\n",
            "Generation: 1600. 正答率(トレーニング) = 0.84\n",
            "                : 1600. 正答率(テスト) = 0.7922\n",
            "Generation: 1800. 正答率(トレーニング) = 0.79\n",
            "                : 1800. 正答率(テスト) = 0.7997\n",
            "Generation: 2000. 正答率(トレーニング) = 0.75\n",
            "                : 2000. 正答率(テスト) = 0.8044\n"
          ],
          "name": "stdout"
        },
        {
          "output_type": "display_data",
          "data": {
            "image/png": "[encoded data removed]",
            "text/plain": [
              "<Figure size 432x288 with 1 Axes>"
            ]
          },
          "metadata": {
            "tags": [],
            "needs_background": "light"
          }
        }
      ]
    },
    {
      "cell_type": "markdown",
      "metadata": {
        "id": "18GyO47kgeIm"
      },
      "source": [
        "## ReLU - He"
      ]
    },
    {
      "cell_type": "code",
      "metadata": {
        "id": "mR4N3MLWgeIn",
        "colab": {
          "base_uri": "https://localhost:8080/",
          "height": 647
        },
        "outputId": "c7218beb-f6e6-4879-e366-3dad2f79c04a"
      },
      "source": [
        "# 初期設定\n",
        "def init_network():\n",
        "    network = {} \n",
        "    ###########  変更箇所  ##############\n",
        "    # Heの初期値\n",
        "    network['W1'] = np.random.randn(input_layer_size, hidden_layer_1_size) / np.sqrt(input_layer_size) * np.sqrt(2)\n",
        "    network['W2'] = np.random.randn(hidden_layer_1_size, hidden_layer_2_size) / np.sqrt(hidden_layer_1_size) * np.sqrt(2)\n",
        "    network['W3'] = np.random.randn(hidden_layer_2_size, output_layer_size) / np.sqrt(hidden_layer_2_size) * np.sqrt(2)\n",
        "    #################################\n",
        "    network['b1'] = np.zeros(hidden_layer_1_size)\n",
        "    network['b2'] = np.zeros(hidden_layer_2_size)\n",
        "    network['b3'] = np.zeros(output_layer_size)\n",
        "    return network\n",
        "\n",
        "# パラメータの初期化\n",
        "network = init_network()\n",
        "accuracies_train = []\n",
        "accuracies_test = []\n",
        "\n",
        "for i in range(iters_num):\n",
        "    # ランダムにバッチを取得    \n",
        "    batch_mask = np.random.choice(train_size, batch_size)\n",
        "    # ミニバッチに対応する教師訓練画像データを取得    \n",
        "    x_batch = x_train[batch_mask]\n",
        "    # ミニバッチに対応する訓練正解ラベルデータを取得する\n",
        "    d_batch = d_train[batch_mask]\n",
        "    \n",
        "    z1, z2, y = forward(network, x_batch, functions.relu)\n",
        "    grad = backward(x_batch, d_batch, z1, z2, y, functions.d_relu)\n",
        "    # z1, z2, y = forward(network, x_batch)\n",
        "    # grad = backward(x_batch, d_batch, z1, z2, y)\n",
        "\n",
        "    if ( i + 1 ) % plot_interval == 0:\n",
        "        # accr_test = accuracy(x_test, d_test)\n",
        "        accr_test = accuracy(x_test, d_test, functions.relu)\n",
        "        accuracies_test.append(accr_test)\n",
        "        \n",
        "        # accr_train = accuracy(x_batch, d_batch)\n",
        "        accr_train = accuracy(x_batch, d_batch, functions.relu)\n",
        "        accuracies_train.append(accr_train)\n",
        "\n",
        "        print('Generation: ' + str(i+1) + '. 正答率(トレーニング) = ' + str(accr_train))\n",
        "        print('                : ' + str(i+1) + '. 正答率(テスト) = ' + str(accr_test))\n",
        "        \n",
        "    # パラメータに勾配適用\n",
        "    for key in ('W1', 'W2', 'W3', 'b1', 'b2', 'b3'):\n",
        "        network[key]  -= learning_rate * grad[key]\n",
        "\n",
        "# グラフ\n",
        "draw_graph(lists, accuracies_train, accuracies_test, \"lower right\")"
      ],
      "execution_count": null,
      "outputs": [
        {
          "output_type": "stream",
          "text": [
            "Generation: 200. 正答率(トレーニング) = 0.95\n",
            "                : 200. 正答率(テスト) = 0.8959\n",
            "Generation: 400. 正答率(トレーニング) = 0.88\n",
            "                : 400. 正答率(テスト) = 0.9095\n",
            "Generation: 600. 正答率(トレーニング) = 0.95\n",
            "                : 600. 正答率(テスト) = 0.9263\n",
            "Generation: 800. 正答率(トレーニング) = 0.93\n",
            "                : 800. 正答率(テスト) = 0.934\n",
            "Generation: 1000. 正答率(トレーニング) = 0.94\n",
            "                : 1000. 正答率(テスト) = 0.9414\n",
            "Generation: 1200. 正答率(トレーニング) = 0.93\n",
            "                : 1200. 正答率(テスト) = 0.9384\n",
            "Generation: 1400. 正答率(トレーニング) = 0.92\n",
            "                : 1400. 正答率(テスト) = 0.9469\n",
            "Generation: 1600. 正答率(トレーニング) = 0.98\n",
            "                : 1600. 正答率(テスト) = 0.9484\n",
            "Generation: 1800. 正答率(トレーニング) = 0.96\n",
            "                : 1800. 正答率(テスト) = 0.9505\n",
            "Generation: 2000. 正答率(トレーニング) = 0.95\n",
            "                : 2000. 正答率(テスト) = 0.9511\n"
          ],
          "name": "stdout"
        },
        {
          "output_type": "display_data",
          "data": {
            "image/png": "[encoded data removed]",
            "text/plain": [
              "<Figure size 432x288 with 1 Axes>"
            ]
          },
          "metadata": {
            "tags": [],
            "needs_background": "light"
          }
        }
      ]
    }
  ]
}