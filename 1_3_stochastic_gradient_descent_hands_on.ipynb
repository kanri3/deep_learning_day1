{
  "nbformat": 4,
  "nbformat_minor": 0,
  "metadata": {
    "anaconda-cloud": {},
    "kernelspec": {
      "display_name": "Python 3",
      "language": "python",
      "name": "python3"
    },
    "language_info": {
      "codemirror_mode": {
        "name": "ipython",
        "version": 3
      },
      "file_extension": ".py",
      "mimetype": "text/x-python",
      "name": "python",
      "nbconvert_exporter": "python",
      "pygments_lexer": "ipython3",
      "version": "3.6.3"
    },
    "colab": {
      "name": "1_3_stochastic_gradient_descent_hands_on.ipynb",
      "provenance": [],
      "collapsed_sections": [],
      "include_colab_link": true
    }
  },
  "cells": [
    {
      "cell_type": "markdown",
      "metadata": {
        "id": "view-in-github",
        "colab_type": "text"
      },
      "source": [
        "<a href=\"https://colab.research.google.com/github/kanri3/deep_learning_day1_day2/blob/main/1_3_stochastic_gradient_descent_hands_on.ipynb\" target=\"_parent\"><img src=\"https://colab.research.google.com/assets/colab-badge.svg\" alt=\"Open In Colab\"/></a>"
      ]
    },
    {
      "cell_type": "markdown",
      "metadata": {
        "id": "8cNl2QA_Rnv5"
      },
      "source": [
        "# 準備"
      ]
    },
    {
      "cell_type": "markdown",
      "metadata": {
        "id": "YkwjN1jNVAYy"
      },
      "source": [
        "## Googleドライブのマウント"
      ]
    },
    {
      "cell_type": "code",
      "metadata": {
        "id": "pvFXpiH3EVC1"
      },
      "source": [
        "# from google.colab import drive\n",
        "# drive.mount('/content/drive')"
      ],
      "execution_count": null,
      "outputs": []
    },
    {
      "cell_type": "markdown",
      "metadata": {
        "id": "3Ub7RYdeY6pK"
      },
      "source": [
        "## sys.pathの設定"
      ]
    },
    {
      "cell_type": "markdown",
      "metadata": {
        "id": "oql7L19rEsWi"
      },
      "source": [
        "以下では，Googleドライブのマイドライブ直下にDNN_codeフォルダを置くことを仮定しています．必要に応じて，パスを変更してください．"
      ]
    },
    {
      "cell_type": "code",
      "metadata": {
        "id": "7Ic2JzkvFX59"
      },
      "source": [
        "# import sys\n",
        "# sys.path.append('/content/drive/My Drive/DNN_code')"
      ],
      "execution_count": null,
      "outputs": []
    },
    {
      "cell_type": "markdown",
      "metadata": {
        "id": "k5L0AWliZYng"
      },
      "source": [
        "# importと関数定義"
      ]
    },
    {
      "cell_type": "code",
      "metadata": {
        "id": "83JsTOf6hQWi"
      },
      "source": [
        "# import numpy as np\n",
        "# from common import functions\n",
        "# import matplotlib.pyplot as plt\n",
        "\n",
        "# def print_vec(text, vec):\n",
        "#     print(\"*** \" + text + \" ***\")\n",
        "#     print(vec)\n",
        "#     #print(\"shape: \" + str(x.shape))\n",
        "#     print(\"\")"
      ],
      "execution_count": null,
      "outputs": []
    },
    {
      "cell_type": "code",
      "metadata": {
        "id": "pVi6PVwQnXDM"
      },
      "source": [
        "import numpy as np\n",
        "# from common import functions\n",
        "import matplotlib.pyplot as plt\n",
        "\n",
        "def print_vec(text, vec):\n",
        "    print(\"*** \" + text + \" ***\")\n",
        "    np.set_printoptions(precision=5)\n",
        "    print(vec)\n",
        "    print(\"shape:\", vec.shape)\n",
        "    #print(\"shape: \" + str(x.shape))\n",
        "    # print(\"\")\n",
        "\n",
        "# ReLU関数\n",
        "def relu(x):\n",
        "    return np.maximum(0, x)\n",
        "# 中間層の活性化関数\n",
        "# シグモイド関数（ロジスティック関数）\n",
        "def sigmoid(x):\n",
        "    return 1/(1 + np.exp(-x))\n",
        "# 出力層の活性化関数\n",
        "# ソフトマックス関数\n",
        "def softmax(x):\n",
        "    if x.ndim == 2:\n",
        "        x = x.T\n",
        "        x = x - np.max(x, axis=0)\n",
        "        y = np.exp(x) / np.sum(np.exp(x), axis=0)\n",
        "        return y.T\n",
        "    x = x - np.max(x) # オーバーフロー対策\n",
        "    return np.exp(x) / np.sum(np.exp(x))\n",
        "# クロスエントロピー\n",
        "def cross_entropy_error(d, y):\n",
        "    if y.ndim == 1:\n",
        "        d = d.reshape(1, d.size)\n",
        "        y = y.reshape(1, y.size)\n",
        "    # 教師データがone-hot-vectorの場合、正解ラベルのインデックスに変換\n",
        "    # One-hotベクトルとは、(0,1,0,0,0,0) の様に、1つの成分が1で残りの成分が全て0であるベクトルのこと\n",
        "    if d.size == y.size:\n",
        "        # NumPyのargmax関数は、多次元配列の中の最大値の要素を持つインデックスを返す関数\n",
        "        d = d.argmax(axis=1)\n",
        "    batch_size = y.shape[0]\n",
        "    return -np.sum(np.log(y[np.arange(batch_size), d] + 1e-7)) / batch_size\n",
        "# 誤差関数\n",
        "# 平均二乗誤差\n",
        "def mean_squared_error(d, y):\n",
        "    return np.mean(np.square(d - y)) / 2\n",
        "# シグモイドとクロスエントロピーの複合導関数\n",
        "def d_sigmoid_with_loss(d, y):\n",
        "    return y - d\n",
        "# ReLU関数の導関数\n",
        "def d_relu(x):\n",
        "    return np.where( x > 0, 1, 0)\n",
        "# 平均二乗誤差の導関数\n",
        "def d_mean_squared_error(d, y):\n",
        "    if type(d) == np.ndarray:\n",
        "        batch_size = d.shape[0]\n",
        "        dx = (y - d)/batch_size\n",
        "    else:\n",
        "        dx = y - d\n",
        "    return dx\n",
        "# 活性化関数の導関数\n",
        "# シグモイド関数（ロジスティック関数）の導関数\n",
        "def d_sigmoid(x):\n",
        "    dx = (1.0 - sigmoid(x)) * sigmoid(x)\n",
        "    return dx"
      ],
      "execution_count": null,
      "outputs": []
    },
    {
      "cell_type": "markdown",
      "metadata": {
        "id": "isK70HrMhid9"
      },
      "source": [
        "# 確率勾配降下法"
      ]
    },
    {
      "cell_type": "code",
      "metadata": {
        "id": "MvHIzue3hQWm"
      },
      "source": [
        "# サンプルとする関数\n",
        "#yの値を予想するAI\n",
        "\n",
        "def f(x):\n",
        "    y = 3 * x[0] + 2 * x[1]\n",
        "    return y\n",
        "\n",
        "# 初期設定\n",
        "def init_network():\n",
        "    # print(\"##### ネットワークの初期化 #####\")\n",
        "    network = {}\n",
        "    nodesNum = 10\n",
        "    # np.random.randn()は、平均0、分散1（標準偏差1）の正規分布（標準正規分布）に従う乱数を返す。\n",
        "    network['W1'] = np.random.randn(2, nodesNum)\n",
        "    network['W2'] = np.random.randn(nodesNum)\n",
        "    network['b1'] = np.random.randn(nodesNum)\n",
        "    network['b2'] = np.random.randn(nodesNum)\n",
        "\n",
        "    print_vec(\"重み1\", network['W1'])\n",
        "    print_vec(\"重み2\", network['W2'])\n",
        "    print_vec(\"バイアス1\", network['b1'])\n",
        "    print_vec(\"バイアス2\", network['b2'])\n",
        "\n",
        "    return network\n",
        "\n",
        "# 順伝播\n",
        "def forward(network, x):\n",
        "    # print(\"##### 順伝播開始 #####\")\n",
        "    W1, W2 = network['W1'], network['W2']\n",
        "    b1, b2 = network['b1'], network['b2']\n",
        "    u1 = x @ W1 + b1\n",
        "    # u1 = np.dot(x, W1) + b1\n",
        "    z1 = relu(u1)\n",
        "    # z1 = functions.relu(u1)\n",
        "    ## 試してみよう\n",
        "    #z1 = functions.sigmoid(u1)\n",
        "    u2 = z1 @ W2 + b2\n",
        "    # u2 = np.dot(z1, W2) + b2\n",
        "    y = u2\n",
        "\n",
        "    # print_vec(\"総入力1\", u1)\n",
        "    # print_vec(\"中間層出力1\", z1)\n",
        "    # print_vec(\"総入力2\", u2)\n",
        "    # print_vec(\"出力1\", y)\n",
        "    # print(\"出力合計: \" + str(np.sum(y)))    \n",
        "    return z1, y\n",
        "\n",
        "# 誤差逆伝播\n",
        "def backward(x, d, z1, y):\n",
        "    # print(\"\\n##### 誤差逆伝播開始 #####\")    \n",
        "\n",
        "    grad = {}\n",
        "    \n",
        "    W1, W2 = network['W1'], network['W2']\n",
        "    b1, b2 = network['b1'], network['b2']\n",
        "\n",
        "    # 出力層でのデルタ\n",
        "    delta2 = d_mean_squared_error(d, y)\n",
        "    # delta2 = functions.d_mean_squared_error(d, y)\n",
        "    # b2の勾配\n",
        "    grad['b2'] = np.sum(delta2, axis=0)\n",
        "    # W2の勾配\n",
        "    grad['W2'] = z1.T @ delta2\n",
        "    # grad['W2'] = np.dot(z1.T, delta2)\n",
        "\n",
        "    # 中間層でのデルタ\n",
        "    delta1 = (delta2 @ W2.T) * d_relu(z1)\n",
        "    #delta1 = np.dot(delta2, W2.T) * functions.d_relu(z1)\n",
        "\n",
        "    # 試してみよう\n",
        "    # delta1 = (delta2 @ W2.T) * d_sigmoid(z1)\n",
        "    # delta1 = np.dot(delta2, W2.T) * functions.d_sigmoid(z1)\n",
        "\n",
        "    delta1 = delta1[np.newaxis, :]\n",
        "    # b1の勾配\n",
        "    grad['b1'] = np.sum(delta1, axis=0)\n",
        "    x = x[np.newaxis, :]\n",
        "    # W1の勾配\n",
        "    grad['W1'] = x.T @ delta1\n",
        "    # grad['W1'] = np.dot(x.T, delta1)\n",
        "    \n",
        "    # print_vec(\"偏微分_重み1\", grad[\"W1\"])\n",
        "    # print_vec(\"偏微分_重み2\", grad[\"W2\"])\n",
        "    # print_vec(\"偏微分_バイアス1\", grad[\"b1\"])\n",
        "    # print_vec(\"偏微分_バイアス2\", grad[\"b2\"])\n",
        "    return grad"
      ],
      "execution_count": null,
      "outputs": []
    },
    {
      "cell_type": "code",
      "metadata": {
        "id": "pJ-rpBgfhQWp",
        "colab": {
          "base_uri": "https://localhost:8080/",
          "height": 687
        },
        "outputId": "fb7edd38-36d9-4a2d-d8ea-633fc0400211"
      },
      "source": [
        "# サンプルデータを作成\n",
        "data_sets_size = 100000\n",
        "data_sets = [0 for i in range(data_sets_size)]\n",
        "print(\"data_sets[:10]:\", data_sets[:10])\n",
        "print(\"len(data_sets):\", len(data_sets))\n",
        "\n",
        "for i in range(data_sets_size):\n",
        "    data_sets[i] = {}\n",
        "    # ランダムな値を設定\n",
        "    data_sets[i]['x'] = np.random.rand(2)\n",
        "    if i<3 :\n",
        "      print(\"data_sets[\",i,\"]['x']\", data_sets[i]['x'])\n",
        "    \n",
        "    ## 試してみよう_入力値の設定\n",
        "    # data_sets[i]['x'] = np.random.rand(2) * 10 -5 # -5〜5のランダム数値\n",
        "    \n",
        "    # 目標出力を設定\n",
        "    data_sets[i]['d'] = f(data_sets[i]['x'])\n",
        "    \n",
        "losses = []\n",
        "# 学習率\n",
        "learning_rate = 0.07\n",
        "\n",
        "# 抽出数\n",
        "epoch = 1000\n",
        "\n",
        "# パラメータの初期化\n",
        "network = init_network()\n",
        "# データのランダム抽出\n",
        "random_datasets = np.random.choice(data_sets, epoch)\n",
        "\n",
        "# 勾配降下の繰り返し\n",
        "for dataset in random_datasets:\n",
        "    x, d = dataset['x'], dataset['d']\n",
        "    z1, y = forward(network, x)\n",
        "    grad = backward(x, d, z1, y)\n",
        "    # パラメータに勾配適用\n",
        "    for key in ('W1', 'W2', 'b1', 'b2'):\n",
        "        network[key]  -= learning_rate * grad[key]\n",
        "\n",
        "    # 誤差\n",
        "    loss = mean_squared_error(d, y)\n",
        "    # loss = functions.mean_squared_error(d, y)\n",
        "    losses.append(loss)\n",
        "\n",
        "print(\"##### 結果表示 #####\")    \n",
        "lists = range(epoch)\n",
        "plt.plot(lists, losses, '.')\n",
        "# グラフの表示\n",
        "plt.show()"
      ],
      "execution_count": null,
      "outputs": [
        {
          "output_type": "stream",
          "text": [
            "data_sets[:10]: [0, 0, 0, 0, 0, 0, 0, 0, 0, 0]\n",
            "len(data_sets): 100000\n",
            "data_sets[ 0 ]['x'] [0.80755 0.32757]\n",
            "data_sets[ 1 ]['x'] [0.70992 0.28724]\n",
            "data_sets[ 2 ]['x'] [0.12127 0.38502]\n",
            "*** 重み1 ***\n",
            "[[-0.33741 -0.39853 -0.13839  1.74501 -0.72265 -1.09869  0.96114 -0.74025\n",
            "  -2.01102  0.63868]\n",
            " [ 0.66398  2.6546   0.46626  0.2911   0.80051  0.66062  0.68597 -0.48273\n",
            "  -0.25068 -0.98781]]\n",
            "shape: (2, 10)\n",
            "*** 重み2 ***\n",
            "[-1.93939  0.94112  0.51675  0.89005 -1.33609  0.45778 -1.24149  1.20708\n",
            "  1.04168 -0.5448 ]\n",
            "shape: (10,)\n",
            "*** バイアス1 ***\n",
            "[ 0.40767  0.46398  0.71433  1.05378  0.98307 -0.41775  1.51657 -0.82758\n",
            "  0.35186  1.25124]\n",
            "shape: (10,)\n",
            "*** バイアス2 ***\n",
            "[-0.65771 -0.52929  0.90651  1.90941 -1.38106  0.39205  0.99249  1.15142\n",
            "  0.41644 -0.08413]\n",
            "shape: (10,)\n",
            "##### 結果表示 #####\n"
          ],
          "name": "stdout"
        },
        {
          "output_type": "display_data",
          "data": {
            "image/png": "[encoded data removed]",
            "text/plain": [
              "<Figure size 432x288 with 1 Axes>"
            ]
          },
          "metadata": {
            "tags": [],
            "needs_background": "light"
          }
        }
      ]
    }
  ]
}