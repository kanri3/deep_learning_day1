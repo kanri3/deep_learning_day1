{
  "nbformat": 4,
  "nbformat_minor": 0,
  "metadata": {
    "kernelspec": {
      "name": "python3",
      "display_name": "Python 3"
    },
    "language_info": {
      "codemirror_mode": {
        "name": "ipython",
        "version": 3
      },
      "file_extension": ".py",
      "mimetype": "text/x-python",
      "name": "python",
      "nbconvert_exporter": "python",
      "pygments_lexer": "ipython3",
      "version": "3.6.3"
    },
    "colab": {
      "name": "2_4_2_double_comvolution_hands_on.ipynb",
      "provenance": [],
      "collapsed_sections": [],
      "include_colab_link": true
    },
    "accelerator": "GPU"
  },
  "cells": [
    {
      "cell_type": "markdown",
      "metadata": {
        "id": "view-in-github",
        "colab_type": "text"
      },
      "source": [
        "<a href=\"https://colab.research.google.com/github/kanri3/deep_learning_day1_day2/blob/main/2_4_2_double_comvolution_hands_on.ipynb\" target=\"_parent\"><img src=\"https://colab.research.google.com/assets/colab-badge.svg\" alt=\"Open In Colab\"/></a>"
      ]
    },
    {
      "cell_type": "markdown",
      "metadata": {
        "id": "8cNl2QA_Rnv5"
      },
      "source": [
        "# 準備"
      ]
    },
    {
      "cell_type": "markdown",
      "metadata": {
        "id": "YkwjN1jNVAYy"
      },
      "source": [
        "## Googleドライブのマウント"
      ]
    },
    {
      "cell_type": "code",
      "metadata": {
        "id": "pvFXpiH3EVC1",
        "colab": {
          "base_uri": "https://localhost:8080/"
        },
        "outputId": "6b2423c8-a75e-40a7-f130-013398668095"
      },
      "source": [
        "from google.colab import drive\n",
        "drive.mount('/content/drive')"
      ],
      "execution_count": null,
      "outputs": [
        {
          "output_type": "stream",
          "text": [
            "Drive already mounted at /content/drive; to attempt to forcibly remount, call drive.mount(\"/content/drive\", force_remount=True).\n"
          ],
          "name": "stdout"
        }
      ]
    },
    {
      "cell_type": "markdown",
      "metadata": {
        "id": "3Ub7RYdeY6pK"
      },
      "source": [
        "## sys.pathの設定"
      ]
    },
    {
      "cell_type": "markdown",
      "metadata": {
        "id": "oql7L19rEsWi"
      },
      "source": [
        "以下では，Googleドライブのマイドライブ直下にDNN_codeフォルダを置くことを仮定しています．必要に応じて，パスを変更してください．"
      ]
    },
    {
      "cell_type": "code",
      "metadata": {
        "id": "7Ic2JzkvFX59"
      },
      "source": [
        "import sys\n",
        "sys.path.append('/content/drive/My Drive/DNN_code')"
      ],
      "execution_count": null,
      "outputs": []
    },
    {
      "cell_type": "code",
      "metadata": {
        "id": "5BH9xs6o92Ng"
      },
      "source": [
        "import pickle\n",
        "import numpy as np\n",
        "from collections import OrderedDict\n",
        "from common import layers\n",
        "from common import optimizer\n",
        "from data.mnist import load_mnist\n",
        "import matplotlib.pyplot as plt"
      ],
      "execution_count": null,
      "outputs": []
    },
    {
      "cell_type": "markdown",
      "metadata": {
        "id": "bjidKRH-pkBr"
      },
      "source": [
        "# Affine"
      ]
    },
    {
      "cell_type": "code",
      "metadata": {
        "id": "0Bc6yygjpkt1"
      },
      "source": [
        "class Affine:\n",
        "    def __init__(self, W, b):\n",
        "        self.W =W\n",
        "        self.b = b\n",
        "        \n",
        "        self.x = None\n",
        "        self.original_x_shape = None\n",
        "        # 重み・バイアスパラメータの微分\n",
        "        self.dW = None\n",
        "        self.db = None\n",
        "\n",
        "    def forward(self, x):\n",
        "        # テンソル対応        \n",
        "        self.original_x_shape = x.shape\n",
        "        x = x.reshape(x.shape[0], -1)\n",
        "        self.x = x\n",
        "        # print(\"self.x.shape:\", self.x.shape)\n",
        "        # print(\"self.W.shape:\", self.W.shape)\n",
        "        out = np.dot(self.x, self.W) + self.b\n",
        "        return out\n",
        "\n",
        "    def backward(self, dout):\n",
        "        dx = np.dot(dout, self.W.T)\n",
        "        self.dW = np.dot(self.x.T, dout)\n",
        "        self.db = np.sum(dout, axis=0)\n",
        "        \n",
        "        dx = dx.reshape(*self.original_x_shape)  # 入力データの形状に戻す（テンソル対応）\n",
        "        return dx\n"
      ],
      "execution_count": null,
      "outputs": []
    },
    {
      "cell_type": "markdown",
      "metadata": {
        "id": "hGJwgByig7sG"
      },
      "source": [
        "# double_comvolution_network"
      ]
    },
    {
      "cell_type": "code",
      "metadata": {
        "id": "_5e5oW10bXYB"
      },
      "source": [
        "class DoubleConvNet:\n",
        "    # conv - relu - pool - conv - relu - pool - affine - relu - affine - softmax\n",
        "    def __init__(self, input_dim=(1, 28, 28),\n",
        "            conv_param_1={'filter_num':10, 'filter_size':7, 'pad':1, 'stride':1},\n",
        "            conv_param_2={'filter_num':20, 'filter_size':3, 'pad':1, 'stride':1},\n",
        "            hidden_size=100, output_size=10, weight_init_std=0.01):\n",
        "\n",
        "        conv_output_size_1 = (input_dim[1] - conv_param_1['filter_size'] + 2 * conv_param_1['pad']) / conv_param_1['stride'] + 1\n",
        "        conv_output_size_2 = (conv_output_size_1 / 2 - conv_param_2['filter_size'] + 2 * conv_param_2['pad']) / conv_param_2['stride'] + 1        \n",
        "        pool_output_size = int(conv_param_2['filter_num'] * (conv_output_size_2 / 2) * (conv_output_size_2 / 2))        \n",
        "        # 重みの初期化\n",
        "        self.params = {}\n",
        "        self.params['W1'] = weight_init_std * np.random.randn(conv_param_1['filter_num'], input_dim[0], conv_param_1['filter_size'], conv_param_1['filter_size'])\n",
        "        self.params['b1'] = np.zeros(conv_param_1['filter_num'])\n",
        "        self.params['W2'] = weight_init_std * np.random.randn(conv_param_2['filter_num'], conv_param_1['filter_num'], conv_param_2['filter_size'], conv_param_2['filter_size'])\n",
        "        self.params['b2'] = np.zeros(conv_param_2['filter_num'])\n",
        "        self.params['W3'] = weight_init_std * np.random.randn(pool_output_size, hidden_size)\n",
        "        self.params['b3'] = np.zeros(hidden_size)\n",
        "        self.params['W4'] = weight_init_std * np.random.randn(hidden_size, output_size)\n",
        "        self.params['b4'] = np.zeros(output_size)\n",
        "        # レイヤの生成\n",
        "        self.layers = OrderedDict()\n",
        "        self.layers['Conv1'] = layers.Convolution(self.params['W1'], self.params['b1'], conv_param_1['stride'], conv_param_1['pad'])\n",
        "        self.layers['Relu1'] = layers.Relu()\n",
        "        self.layers['Pool1'] = layers.Pooling(pool_h=2, pool_w=2, stride=2)\n",
        "        self.layers['Conv2'] = layers.Convolution(self.params['W2'], self.params['b2'], conv_param_2['stride'], conv_param_2['pad'])\n",
        "        self.layers['Relu2'] = layers.Relu()\n",
        "        self.layers['Pool2'] = layers.Pooling(pool_h=2, pool_w=2, stride=2)\n",
        "        self.layers['Affine1'] = layers.Affine(self.params['W3'], self.params['b3'])\n",
        "        self.layers['Relu3'] = layers.Relu()\n",
        "        self.layers['Affine2'] = layers.Affine(self.params['W4'], self.params['b4'])\n",
        "        self.last_layer = layers.SoftmaxWithLoss()\n",
        "\n",
        "    def predict(self, x):\n",
        "        for key in self.layers.keys():\n",
        "            x = self.layers[key].forward(x)\n",
        "        return x\n",
        "        \n",
        "    def loss(self, x, d):\n",
        "        y = self.predict(x)\n",
        "        return self.last_layer.forward(y, d)\n",
        "\n",
        "    def accuracy(self, x, d, batch_size=100):\n",
        "        if d.ndim != 1 : d = np.argmax(d, axis=1)\n",
        "        acc = 0.0\n",
        "        for i in range(int(x.shape[0] / batch_size)):\n",
        "            tx = x[i * batch_size : (i + 1) * batch_size]\n",
        "            td = d[i * batch_size : (i + 1) * batch_size]\n",
        "            y = self.predict(tx)\n",
        "            y = np.argmax(y, axis = 1)\n",
        "            acc += np.sum(y == td)\n",
        "        return acc / x.shape[0]\n",
        "\n",
        "    def gradient(self, x, d):\n",
        "        # forward\n",
        "        self.loss(x, d)\n",
        "        # backward\n",
        "        dout = 1\n",
        "        dout = self.last_layer.backward(dout)\n",
        "        layers = list(self.layers.values())\n",
        "        layers.reverse()\n",
        "        for layer in layers:\n",
        "            dout = layer.backward(dout)\n",
        "        # 設定\n",
        "        grad = {}\n",
        "        grad['W1'], grad['b1'] = self.layers['Conv1'].dW, self.layers['Conv1'].db\n",
        "        grad['W2'], grad['b2'] = self.layers['Conv2'].dW, self.layers['Conv2'].db        \n",
        "        grad['W3'], grad['b3'] = self.layers['Affine1'].dW, self.layers['Affine1'].db\n",
        "        grad['W4'], grad['b4'] = self.layers['Affine2'].dW, self.layers['Affine2'].db\n",
        "        return grad"
      ],
      "execution_count": null,
      "outputs": []
    },
    {
      "cell_type": "markdown",
      "metadata": {
        "id": "ey2p4TRFbrfy"
      },
      "source": [
        "# pooling層を一つ減らす\n",
        "DoubleConvNetをアレンジ  \n",
        "前：conv - relu - pool - conv - relu - pool - affine - relu - affine - softmax\n",
        "\n",
        "後：conv - relu - conv - relu - pool - affine - relu - affine - softmax"
      ]
    },
    {
      "cell_type": "code",
      "metadata": {
        "id": "C-Gkryvqbnxt"
      },
      "source": [
        "class DoubleConvNetArr:\n",
        "    def __init__(self, input_dim=(1, 28, 28),\n",
        "            conv_param_1={'filter_num':10, 'filter_size':7, 'pad':1, 'stride':1},\n",
        "            conv_param_2={'filter_num':20, 'filter_size':3, 'pad':1, 'stride':1},\n",
        "            hidden_size=100, output_size=10, weight_init_std=0.01):\n",
        "\n",
        "        conv_output_size_1 = (input_dim[1] - conv_param_1['filter_size'] + 2 * conv_param_1['pad']) / conv_param_1['stride'] + 1\n",
        "        conv_output_size_2 = (conv_output_size_1 / 2 - conv_param_2['filter_size'] + 2 * conv_param_2['pad']) / conv_param_2['stride'] + 1\n",
        "\n",
        "        pool_output_size_arr = int(conv_param_2['filter_num'] * conv_output_size_2 ** 2)        \n",
        "        # pool_output_size = int(conv_param_2['filter_num'] * (conv_output_size_2 / 2) * (conv_output_size_2 / 2))        \n",
        "\n",
        "        # 重みの初期化\n",
        "        self.params = {}\n",
        "        self.params['W1'] = weight_init_std * np.random.randn(conv_param_1['filter_num'], input_dim[0], conv_param_1['filter_size'], conv_param_1['filter_size'])\n",
        "        self.params['b1'] = np.zeros(conv_param_1['filter_num'])\n",
        "        self.params['W2'] = weight_init_std * np.random.randn(conv_param_2['filter_num'], conv_param_1['filter_num'], conv_param_2['filter_size'], conv_param_2['filter_size'])\n",
        "        self.params['b2'] = np.zeros(conv_param_2['filter_num'])\n",
        "\n",
        "        self.params['W3'] = weight_init_std * np.random.randn(pool_output_size_arr, hidden_size)\n",
        "        # self.params['W3'] = weight_init_std * np.random.randn(pool_output_size * 4, hidden_size)\n",
        "        # self.params['W3'] = weight_init_std * np.random.randn(pool_output_size, hidden_size)\n",
        "        \n",
        "        self.params['b3'] = np.zeros(hidden_size)\n",
        "        self.params['W4'] = weight_init_std * np.random.randn(hidden_size, output_size)\n",
        "        self.params['b4'] = np.zeros(output_size)\n",
        "        # レイヤの生成\n",
        "        self.layers = OrderedDict()\n",
        "        self.layers['Conv1'] = layers.Convolution(self.params['W1'], self.params['b1'], conv_param_1['stride'], conv_param_1['pad'])\n",
        "        self.layers['Relu1'] = layers.Relu()\n",
        "\n",
        "        # self.layers['Pool1'] = layers.Pooling(pool_h=2, pool_w=2, stride=2)\n",
        "        \n",
        "        self.layers['Conv2'] = layers.Convolution(self.params['W2'], self.params['b2'], conv_param_2['stride'], conv_param_2['pad'])\n",
        "        self.layers['Relu2'] = layers.Relu()\n",
        "        self.layers['Pool2'] = layers.Pooling(pool_h = 2, pool_w = 2, stride = 2)\n",
        "        self.layers['Affine1'] = Affine(self.params['W3'], self.params['b3'])\n",
        "        # self.layers['Affine1'] = layers.Affine(self.params['W3'], self.params['b3'])\n",
        "        self.layers['Relu3'] = layers.Relu()\n",
        "        self.layers['Affine2'] = Affine(self.params['W4'], self.params['b4'])\n",
        "        # self.layers['Affine2'] = layers.Affine(self.params['W4'], self.params['b4'])\n",
        "        self.last_layer = layers.SoftmaxWithLoss()\n",
        "\n",
        "    def predict(self, x):\n",
        "        for key in self.layers.keys():\n",
        "            x = self.layers[key].forward(x)\n",
        "        return x\n",
        "        \n",
        "    def loss(self, x, d):\n",
        "        y = self.predict(x)\n",
        "        return self.last_layer.forward(y, d)\n",
        "\n",
        "    def accuracy(self, x, d, batch_size=10):\n",
        "    # def accuracy(self, x, d, batch_size=100):\n",
        "        if d.ndim != 1 : d = np.argmax(d, axis=1)\n",
        "        acc = 0.0\n",
        "        for i in range(int(x.shape[0] / batch_size)):\n",
        "            tx = x[i*batch_size:(i+1)*batch_size]\n",
        "            td = d[i*batch_size:(i+1)*batch_size]\n",
        "            y = self.predict(tx)\n",
        "            y = np.argmax(y, axis=1)\n",
        "            acc += np.sum(y == td) \n",
        "        return acc / x.shape[0]\n",
        "\n",
        "    def gradient(self, x, d):\n",
        "        # forward\n",
        "        self.loss(x, d)\n",
        "        # backward\n",
        "        dout = 1\n",
        "        dout = self.last_layer.backward(dout)\n",
        "        layers = list(self.layers.values())\n",
        "        layers.reverse()\n",
        "        for layer in layers:\n",
        "            dout = layer.backward(dout)\n",
        "        # 設定\n",
        "        grad = {}\n",
        "        grad['W1'], grad['b1'] = self.layers['Conv1'].dW, self.layers['Conv1'].db\n",
        "        grad['W2'], grad['b2'] = self.layers['Conv2'].dW, self.layers['Conv2'].db        \n",
        "        grad['W3'], grad['b3'] = self.layers['Affine1'].dW, self.layers['Affine1'].db\n",
        "        grad['W4'], grad['b4'] = self.layers['Affine2'].dW, self.layers['Affine2'].db\n",
        "        return grad"
      ],
      "execution_count": null,
      "outputs": []
    },
    {
      "cell_type": "markdown",
      "metadata": {
        "id": "r6PVq9TWib-T"
      },
      "source": [
        "# Adam"
      ]
    },
    {
      "cell_type": "code",
      "metadata": {
        "id": "qADOp0QRia7A"
      },
      "source": [
        "class Adam:\n",
        "    def __init__(self, learning_rate=0.001, beta1=0.9, beta2=0.999):\n",
        "        self.learning_rate = learning_rate\n",
        "        self.beta1 = beta1\n",
        "        self.beta2 = beta2\n",
        "        self.iter = 0\n",
        "        self.m = None\n",
        "        self.v = None\n",
        "        \n",
        "    def update(self, params, grad):\n",
        "        if self.m is None:\n",
        "            self.m, self.v = {}, {}\n",
        "            for key, val in params.items():\n",
        "                self.m[key] = np.zeros_like(val)\n",
        "                self.v[key] = np.zeros_like(val)\n",
        "        \n",
        "        self.iter += 1\n",
        "        lr_t  = self.learning_rate * np.sqrt(1.0 - self.beta2 ** self.iter) / (1.0 - self.beta1 ** self.iter)         \n",
        "        \n",
        "        for key in params.keys():\n",
        "            self.m[key] += (1 - self.beta1) * (grad[key] - self.m[key])\n",
        "            self.v[key] += (1 - self.beta2) * (grad[key] ** 2 - self.v[key])\n",
        "            \n",
        "            params[key] -= lr_t * self.m[key] / (np.sqrt(self.v[key]) + 1e-7)"
      ],
      "execution_count": null,
      "outputs": []
    },
    {
      "cell_type": "markdown",
      "metadata": {
        "id": "hlu3HHebn_l9"
      },
      "source": [
        "# 比べちゃうのかよ！"
      ]
    },
    {
      "cell_type": "code",
      "metadata": {
        "id": "cmIV-LrM-hqa"
      },
      "source": [
        "def compare(network, graph_title):\n",
        "    train_loss_list = []\n",
        "    accuracies_train = []\n",
        "    accuracies_test = []\n",
        "    plot_interval=10\n",
        "\n",
        "    for i in range(iters_num):\n",
        "        batch_mask = np.random.choice(train_size, batch_size)\n",
        "        x_batch = x_train[batch_mask]\n",
        "        d_batch = d_train[batch_mask]\n",
        "        \n",
        "        grad = network.gradient(x_batch, d_batch)\n",
        "        Adam().update(network.params, grad)\n",
        "        loss = network.loss(x_batch, d_batch)\n",
        "        train_loss_list.append(loss)\n",
        "\n",
        "        if (i + 1) % plot_interval == 0 or i == 0:\n",
        "            accr_train = network.accuracy(x_train, d_train)\n",
        "            accr_test = network.accuracy(x_test, d_test)\n",
        "            accuracies_train.append(accr_train)\n",
        "            accuracies_test.append(accr_test)\n",
        "            \n",
        "            print('Generation: ' + str(i + 1) + '. 正答率(トレーニング) = ' + str(accr_train))\n",
        "            print('                : ' + str(i + 1) + '. 正答率(テスト) = ' + str(accr_test))               \n",
        "\n",
        "    lists = range(0, iters_num + 1, plot_interval)\n",
        "    plt.plot(lists, accuracies_train, label = \"training set\")\n",
        "    plt.plot(lists, accuracies_test,  label = \"test set\")\n",
        "    plt.legend(loc = \"lower right\")\n",
        "    plt.title(graph_title)\n",
        "    plt.xlabel(\"count\")\n",
        "    plt.ylabel(\"accuracy\")\n",
        "    plt.ylim(0, 1.0)\n",
        "    # グラフの表示\n",
        "    plt.show()"
      ],
      "execution_count": null,
      "outputs": []
    },
    {
      "cell_type": "code",
      "metadata": {
        "id": "rPtHykqj92Nk",
        "colab": {
          "base_uri": "https://localhost:8080/",
          "height": 1000
        },
        "outputId": "4716108e-75a8-4916-9aed-8d8eaab84760"
      },
      "source": [
        "# データの読み込み\n",
        "(x_train, d_train), (x_test, d_test) = load_mnist(flatten=False)\n",
        "print(\"データ読み込み完了\")\n",
        "# 処理に時間のかかる場合はデータを削減 \n",
        "x_train, d_train = x_train[:5000], d_train[:5000]\n",
        "x_test, d_test = x_test[:1000], d_test[:1000]\n",
        "# optimizer = optimizer.Adam()\n",
        "# 時間がかかるため100に設定\n",
        "iters_num = 100\n",
        "# iters_num = 1000\n",
        "train_size = x_train.shape[0]\n",
        "batch_size = 10\n",
        "# batch_size = 100\n",
        "network = DoubleConvNetArr(input_dim = (1, 28, 28), hidden_size = 100, output_size = 10, weight_init_std = 0.01,\n",
        "                          conv_param_1 = {'filter_num':10, 'filter_size':7, 'pad':1, 'stride':1},\n",
        "                          conv_param_2 = {'filter_num':20, 'filter_size':3, 'pad':1, 'stride':1})\n",
        "compare(network, \"One of pooling layers was removed!\")\n",
        "\n",
        "network = DoubleConvNet(input_dim = (1, 28, 28), hidden_size = 100, output_size = 10, weight_init_std = 0.01,\n",
        "                          conv_param_1 = {'filter_num':10, 'filter_size':7, 'pad':1, 'stride':1},\n",
        "                          conv_param_2 = {'filter_num':20, 'filter_size':3, 'pad':1, 'stride':1})\n",
        "compare(network, \"Before removed!\")\n"
      ],
      "execution_count": null,
      "outputs": [
        {
          "output_type": "stream",
          "text": [
            "データ読み込み完了\n",
            "Generation: 1. 正答率(トレーニング) = 0.1182\n",
            "                : 1. 正答率(テスト) = 0.132\n",
            "Generation: 10. 正答率(トレーニング) = 0.1126\n",
            "                : 10. 正答率(テスト) = 0.126\n",
            "Generation: 20. 正答率(トレーニング) = 0.1538\n",
            "                : 20. 正答率(テスト) = 0.17\n",
            "Generation: 30. 正答率(トレーニング) = 0.216\n",
            "                : 30. 正答率(テスト) = 0.224\n",
            "Generation: 40. 正答率(トレーニング) = 0.3582\n",
            "                : 40. 正答率(テスト) = 0.368\n",
            "Generation: 50. 正答率(トレーニング) = 0.3914\n",
            "                : 50. 正答率(テスト) = 0.369\n",
            "Generation: 60. 正答率(トレーニング) = 0.491\n",
            "                : 60. 正答率(テスト) = 0.493\n",
            "Generation: 70. 正答率(トレーニング) = 0.5696\n",
            "                : 70. 正答率(テスト) = 0.539\n",
            "Generation: 80. 正答率(トレーニング) = 0.5062\n",
            "                : 80. 正答率(テスト) = 0.475\n",
            "Generation: 90. 正答率(トレーニング) = 0.5422\n",
            "                : 90. 正答率(テスト) = 0.508\n",
            "Generation: 100. 正答率(トレーニング) = 0.656\n",
            "                : 100. 正答率(テスト) = 0.644\n"
          ],
          "name": "stdout"
        },
        {
          "output_type": "display_data",
          "data": {
            "image/png": "[encoded data removed]",
            "text/plain": [
              "<Figure size 432x288 with 1 Axes>"
            ]
          },
          "metadata": {
            "tags": [],
            "needs_background": "light"
          }
        },
        {
          "output_type": "stream",
          "text": [
            "Generation: 1. 正答率(トレーニング) = 0.1126\n",
            "                : 1. 正答率(テスト) = 0.126\n",
            "Generation: 10. 正答率(トレーニング) = 0.099\n",
            "                : 10. 正答率(テスト) = 0.094\n",
            "Generation: 20. 正答率(トレーニング) = 0.2006\n",
            "                : 20. 正答率(テスト) = 0.22\n",
            "Generation: 30. 正答率(トレーニング) = 0.107\n",
            "                : 30. 正答率(テスト) = 0.11\n",
            "Generation: 40. 正答率(トレーニング) = 0.2444\n",
            "                : 40. 正答率(テスト) = 0.265\n",
            "Generation: 50. 正答率(トレーニング) = 0.1858\n",
            "                : 50. 正答率(テスト) = 0.193\n",
            "Generation: 60. 正答率(トレーニング) = 0.2858\n",
            "                : 60. 正答率(テスト) = 0.294\n",
            "Generation: 70. 正答率(トレーニング) = 0.3156\n",
            "                : 70. 正答率(テスト) = 0.351\n",
            "Generation: 80. 正答率(トレーニング) = 0.3494\n",
            "                : 80. 正答率(テスト) = 0.334\n",
            "Generation: 90. 正答率(トレーニング) = 0.3176\n",
            "                : 90. 正答率(テスト) = 0.337\n",
            "Generation: 100. 正答率(トレーニング) = 0.4492\n",
            "                : 100. 正答率(テスト) = 0.464\n"
          ],
          "name": "stdout"
        },
        {
          "output_type": "display_data",
          "data": {
            "image/png": "[encoded data removed]",
            "text/plain": [
              "<Figure size 432x288 with 1 Axes>"
            ]
          },
          "metadata": {
            "tags": [],
            "needs_background": "light"
          }
        }
      ]
    }
  ]
}