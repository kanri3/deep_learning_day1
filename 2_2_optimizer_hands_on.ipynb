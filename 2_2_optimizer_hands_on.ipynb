{
  "nbformat": 4,
  "nbformat_minor": 0,
  "metadata": {
    "kernelspec": {
      "display_name": "Python 3",
      "language": "python",
      "name": "python3"
    },
    "language_info": {
      "codemirror_mode": {
        "name": "ipython",
        "version": 3
      },
      "file_extension": ".py",
      "mimetype": "text/x-python",
      "name": "python",
      "nbconvert_exporter": "python",
      "pygments_lexer": "ipython3",
      "version": "3.6.3"
    },
    "colab": {
      "name": "2_2_optimizer_hands_on.ipynb",
      "provenance": [],
      "collapsed_sections": [],
      "include_colab_link": true
    }
  },
  "cells": [
    {
      "cell_type": "markdown",
      "metadata": {
        "id": "view-in-github",
        "colab_type": "text"
      },
      "source": [
        "<a href=\"https://colab.research.google.com/github/kanri3/deep_learning_day1_day2/blob/main/2_2_optimizer_hands_on.ipynb\" target=\"_parent\"><img src=\"https://colab.research.google.com/assets/colab-badge.svg\" alt=\"Open In Colab\"/></a>"
      ]
    },
    {
      "cell_type": "markdown",
      "metadata": {
        "id": "8cNl2QA_Rnv5"
      },
      "source": [
        "# 準備"
      ]
    },
    {
      "cell_type": "markdown",
      "metadata": {
        "id": "YkwjN1jNVAYy"
      },
      "source": [
        "## Googleドライブのマウント"
      ]
    },
    {
      "cell_type": "code",
      "metadata": {
        "id": "pvFXpiH3EVC1",
        "colab": {
          "base_uri": "https://localhost:8080/"
        },
        "outputId": "d2df35f6-8b4e-460a-cf23-aa3d8c2e0774"
      },
      "source": [
        "from google.colab import drive\n",
        "drive.mount('/content/drive')"
      ],
      "execution_count": null,
      "outputs": [
        {
          "output_type": "stream",
          "text": [
            "Drive already mounted at /content/drive; to attempt to forcibly remount, call drive.mount(\"/content/drive\", force_remount=True).\n"
          ],
          "name": "stdout"
        }
      ]
    },
    {
      "cell_type": "markdown",
      "metadata": {
        "id": "3Ub7RYdeY6pK"
      },
      "source": [
        "## sys.pathの設定"
      ]
    },
    {
      "cell_type": "markdown",
      "metadata": {
        "id": "oql7L19rEsWi"
      },
      "source": [
        "以下では，Googleドライブのマイドライブ直下にDNN_codeフォルダを置くことを仮定しています．必要に応じて，パスを変更してください．"
      ]
    },
    {
      "cell_type": "code",
      "metadata": {
        "id": "7Ic2JzkvFX59"
      },
      "source": [
        "import sys\n",
        "sys.path.append('/content/drive/My Drive/DNN_code')\n",
        "# sys.path.append('/content/drive/My Drive/DNN_code/lesson_2')"
      ],
      "execution_count": null,
      "outputs": []
    },
    {
      "cell_type": "markdown",
      "metadata": {
        "id": "Psu3XXuHoXUx"
      },
      "source": [
        "# optimizer"
      ]
    },
    {
      "cell_type": "code",
      "metadata": {
        "colab": {
          "base_uri": "https://localhost:8080/"
        },
        "id": "BcIJwiHljGPx",
        "outputId": "aec943c0-38e4-40ce-8bf5-e22179d7d4a7"
      },
      "source": [
        "import sys, os\n",
        "sys.path.append(os.pardir)  # 親ディレクトリのファイルをインポートするための設定\n",
        "import numpy as np\n",
        "from collections import OrderedDict\n",
        "from common import layers\n",
        "from data.mnist import load_mnist\n",
        "import matplotlib.pyplot as plt\n",
        "from common.multi_layer_net import MultiLayerNet\n",
        "# from multi_layer_net import MultiLayerNet\n",
        "import copy\n",
        "\n",
        "# データの読み込み\n",
        "(x_train, d_train), (x_test, d_test) = load_mnist(normalize=True, one_hot_label=True)\n",
        "print(\"データ読み込み完了\")\n",
        "\n",
        "# batch_normalizationの設定 ================================\n",
        "# use_batchnorm = True\n",
        "use_batchnorm = False\n",
        "# ====================================================\n",
        "\n",
        "network_init = MultiLayerNet(input_size=784, hidden_size_list=[40, 20], output_size=10, activation='sigmoid', weight_init_std=0.01,\n",
        "                       use_batchnorm=use_batchnorm)\n",
        "\n",
        "iters_num = 1000\n",
        "train_size = x_train.shape[0]\n",
        "batch_size = 100\n",
        "learning_rate = 0.01\n",
        "plot_interval=100\n",
        "epsilon = 1e-7\n",
        "\n",
        "# グラフ\n",
        "def draw_graph(title, legend_position):\n",
        "# def draw_graph(accuracies_train, accuracies_test, legend_position):\n",
        "    lists = range(0, iters_num, plot_interval)\n",
        "    plt.plot(lists, accuracies_train, label=\"training set\")\n",
        "    plt.plot(lists, accuracies_test,  label=\"test set\")\n",
        "    plt.legend(loc = legend_position)\n",
        "    # plt.legend(loc=\"lower right\")\n",
        "    plt.title(title)\n",
        "    plt.xlabel(\"count\")\n",
        "    plt.ylabel(\"accuracy\")\n",
        "    plt.ylim(0, 1.0)\n",
        "    # グラフの表示\n",
        "    plt.show()"
      ],
      "execution_count": null,
      "outputs": [
        {
          "output_type": "stream",
          "text": [
            "データ読み込み完了\n"
          ],
          "name": "stdout"
        }
      ]
    },
    {
      "cell_type": "markdown",
      "metadata": {
        "id": "u9LK6Z0goXUy"
      },
      "source": [
        "## SGD"
      ]
    },
    {
      "cell_type": "code",
      "metadata": {
        "id": "RdlXeYygoXUz",
        "colab": {
          "base_uri": "https://localhost:8080/",
          "height": 647
        },
        "outputId": "56541bf1-9212-4d6c-9f6e-eb6553bda34b"
      },
      "source": [
        "network = copy.deepcopy(network_init)\n",
        "train_loss_list = []\n",
        "accuracies_train = []\n",
        "accuracies_test = []\n",
        "\n",
        "for i in range(iters_num):\n",
        "    batch_mask = np.random.choice(train_size, batch_size)\n",
        "    x_batch = x_train[batch_mask]\n",
        "    d_batch = d_train[batch_mask]\n",
        "\n",
        "    # 勾配\n",
        "    grad = network.gradient(x_batch, d_batch)\n",
        "    \n",
        "    for key in ('W1', 'W2', 'W3', 'b1', 'b2', 'b3'):\n",
        "        network.params[key] -= learning_rate * grad[key]\n",
        "        \n",
        "        loss = network.loss(x_batch, d_batch)\n",
        "        train_loss_list.append(loss)\n",
        "    \n",
        "    \n",
        "    if (i + 1) % plot_interval == 0:\n",
        "        accr_test = network.accuracy(x_test, d_test)\n",
        "        accuracies_test.append(accr_test)        \n",
        "        accr_train = network.accuracy(x_batch, d_batch)\n",
        "        accuracies_train.append(accr_train)\n",
        "        \n",
        "        print('Generation: ' + str(i+1) + '. 正答率(トレーニング) = ' + str(accr_train))\n",
        "        print('                : ' + str(i+1) + '. 正答率(テスト) = ' + str(accr_test))\n",
        "\n",
        "# グラフ\n",
        "draw_graph(\"SGD\", \"upper right\")"
      ],
      "execution_count": null,
      "outputs": [
        {
          "output_type": "stream",
          "text": [
            "Generation: 100. 正答率(トレーニング) = 0.08\n",
            "                : 100. 正答率(テスト) = 0.1135\n",
            "Generation: 200. 正答率(トレーニング) = 0.13\n",
            "                : 200. 正答率(テスト) = 0.1135\n",
            "Generation: 300. 正答率(トレーニング) = 0.1\n",
            "                : 300. 正答率(テスト) = 0.1135\n",
            "Generation: 400. 正答率(トレーニング) = 0.15\n",
            "                : 400. 正答率(テスト) = 0.1135\n",
            "Generation: 500. 正答率(トレーニング) = 0.12\n",
            "                : 500. 正答率(テスト) = 0.1135\n",
            "Generation: 600. 正答率(トレーニング) = 0.05\n",
            "                : 600. 正答率(テスト) = 0.1135\n",
            "Generation: 700. 正答率(トレーニング) = 0.11\n",
            "                : 700. 正答率(テスト) = 0.1135\n",
            "Generation: 800. 正答率(トレーニング) = 0.08\n",
            "                : 800. 正答率(テスト) = 0.1135\n",
            "Generation: 900. 正答率(トレーニング) = 0.06\n",
            "                : 900. 正答率(テスト) = 0.1135\n",
            "Generation: 1000. 正答率(トレーニング) = 0.12\n",
            "                : 1000. 正答率(テスト) = 0.1135\n"
          ],
          "name": "stdout"
        },
        {
          "output_type": "display_data",
          "data": {
            "image/png": "[encoded data removed]",
            "text/plain": [
              "<Figure size 432x288 with 1 Axes>"
            ]
          },
          "metadata": {
            "tags": [],
            "needs_background": "light"
          }
        }
      ]
    },
    {
      "cell_type": "markdown",
      "metadata": {
        "id": "Enxu2WoaoXU4"
      },
      "source": [
        "## Momentum"
      ]
    },
    {
      "cell_type": "code",
      "metadata": {
        "id": "2a6WWmpwoXU4",
        "colab": {
          "base_uri": "https://localhost:8080/",
          "height": 647
        },
        "outputId": "c1b1f78b-3974-4464-a477-0f26713661fa"
      },
      "source": [
        "network = copy.deepcopy(network_init)\n",
        "# 慣性\n",
        "momentum = 0.9\n",
        "\n",
        "train_loss_list = []\n",
        "accuracies_train = []\n",
        "accuracies_test = []\n",
        "\n",
        "for i in range(iters_num):\n",
        "    batch_mask = np.random.choice(train_size, batch_size)\n",
        "    x_batch = x_train[batch_mask]\n",
        "    d_batch = d_train[batch_mask]\n",
        "\n",
        "    # 勾配\n",
        "    grad = network.gradient(x_batch, d_batch)\n",
        "    if i == 0:\n",
        "        v = {}\n",
        "    for key in ('W1', 'W2', 'W3', 'b1', 'b2', 'b3'):\n",
        "        if i == 0:\n",
        "            # zeros_like(a)：aと同様のshapeを持つ、0を要素とするndarrayが返される。\n",
        "            v[key] = np.zeros_like(network.params[key])\n",
        "        v[key] = momentum * v[key] - learning_rate * grad[key]\n",
        "        network.params[key] += v[key]\n",
        "\n",
        "        loss = network.loss(x_batch, d_batch)\n",
        "        train_loss_list.append(loss)\n",
        "        \n",
        "    if (i + 1) % plot_interval == 0:\n",
        "        accr_test = network.accuracy(x_test, d_test)\n",
        "        accuracies_test.append(accr_test)        \n",
        "        accr_train = network.accuracy(x_batch, d_batch)\n",
        "        accuracies_train.append(accr_train)\n",
        "\n",
        "        print('Generation: ' + str(i+1) + '. 正答率(トレーニング) = ' + str(accr_train))\n",
        "        print('                : ' + str(i+1) + '. 正答率(テスト) = ' + str(accr_test))\n",
        "\n",
        "# グラフ\n",
        "draw_graph(\"Momentum\", \"upper right\")"
      ],
      "execution_count": null,
      "outputs": [
        {
          "output_type": "stream",
          "text": [
            "Generation: 100. 正答率(トレーニング) = 0.19\n",
            "                : 100. 正答率(テスト) = 0.1028\n",
            "Generation: 200. 正答率(トレーニング) = 0.13\n",
            "                : 200. 正答率(テスト) = 0.1135\n",
            "Generation: 300. 正答率(トレーニング) = 0.1\n",
            "                : 300. 正答率(テスト) = 0.1135\n",
            "Generation: 400. 正答率(トレーニング) = 0.09\n",
            "                : 400. 正答率(テスト) = 0.098\n",
            "Generation: 500. 正答率(トレーニング) = 0.1\n",
            "                : 500. 正答率(テスト) = 0.1135\n",
            "Generation: 600. 正答率(トレーニング) = 0.06\n",
            "                : 600. 正答率(テスト) = 0.1135\n",
            "Generation: 700. 正答率(トレーニング) = 0.08\n",
            "                : 700. 正答率(テスト) = 0.1135\n",
            "Generation: 800. 正答率(トレーニング) = 0.08\n",
            "                : 800. 正答率(テスト) = 0.1135\n",
            "Generation: 900. 正答率(トレーニング) = 0.08\n",
            "                : 900. 正答率(テスト) = 0.0958\n",
            "Generation: 1000. 正答率(トレーニング) = 0.09\n",
            "                : 1000. 正答率(テスト) = 0.101\n"
          ],
          "name": "stdout"
        },
        {
          "output_type": "display_data",
          "data": {
            "image/png": "[encoded data removed]",
            "text/plain": [
              "<Figure size 432x288 with 1 Axes>"
            ]
          },
          "metadata": {
            "tags": [],
            "needs_background": "light"
          }
        }
      ]
    },
    {
      "cell_type": "markdown",
      "metadata": {
        "id": "cpK_2sFVoXU7"
      },
      "source": [
        "## AdaGrad"
      ]
    },
    {
      "cell_type": "code",
      "metadata": {
        "id": "A7zrjiFqoXU8",
        "colab": {
          "base_uri": "https://localhost:8080/",
          "height": 665
        },
        "outputId": "bce76456-50ec-475d-d996-f21deaaa4140"
      },
      "source": [
        "network = copy.deepcopy(network_init)\n",
        "\n",
        "train_loss_list = []\n",
        "accuracies_train = []\n",
        "accuracies_test = []\n",
        "iters_num = 2000\n",
        "plot_interval = 200\n",
        "\n",
        "for i in range(iters_num):\n",
        "    batch_mask = np.random.choice(train_size, batch_size)\n",
        "    x_batch = x_train[batch_mask]\n",
        "    d_batch = d_train[batch_mask]\n",
        "\n",
        "    # 勾配\n",
        "    grad = network.gradient(x_batch, d_batch)\n",
        "    if i == 0:\n",
        "        h = {}\n",
        "    for key in ('W1', 'W2', 'W3', 'b1', 'b2', 'b3'):\n",
        "        # 変更\n",
        "        # ===========================================\n",
        "        if i == 0:\n",
        "            h[key] = np.zeros_like(network.params[key])\n",
        "        h[key] += grad[key] ** 2\n",
        "        network.params[key] -= learning_rate * grad[key] / (np.sqrt(h[key]) + epsilon)\n",
        "        # ===========================================\n",
        "        loss = network.loss(x_batch, d_batch)\n",
        "        train_loss_list.append(loss)\n",
        "        \n",
        "    if (i + 1) % plot_interval == 0:\n",
        "        accr_test = network.accuracy(x_test, d_test)\n",
        "        accuracies_test.append(accr_test)        \n",
        "        accr_train = network.accuracy(x_batch, d_batch)\n",
        "        accuracies_train.append(accr_train)\n",
        "\n",
        "        print('Generation: ' + str(i+1) + '. 正答率(トレーニング) = ' + str(accr_train))\n",
        "        print('                : ' + str(i+1) + '. 正答率(テスト) = ' + str(accr_test))\n",
        "\n",
        "# グラフ\n",
        "draw_graph(\"AdaGrad\", \"upper right\")\n",
        "\n",
        "iters_num = 1000\n",
        "plot_interval = 100"
      ],
      "execution_count": null,
      "outputs": [
        {
          "output_type": "stream",
          "text": [
            "Generation: 200. 正答率(トレーニング) = 0.26\n",
            "                : 200. 正答率(テスト) = 0.2077\n",
            "Generation: 400. 正答率(トレーニング) = 0.19\n",
            "                : 400. 正答率(テスト) = 0.2298\n",
            "Generation: 600. 正答率(トレーニング) = 0.24\n",
            "                : 600. 正答率(テスト) = 0.2665\n",
            "Generation: 800. 正答率(トレーニング) = 0.34\n",
            "                : 800. 正答率(テスト) = 0.3229\n",
            "Generation: 1000. 正答率(トレーニング) = 0.48\n",
            "                : 1000. 正答率(テスト) = 0.3855\n",
            "Generation: 1200. 正答率(トレーニング) = 0.36\n",
            "                : 1200. 正答率(テスト) = 0.4076\n",
            "Generation: 1400. 正答率(トレーニング) = 0.41\n",
            "                : 1400. 正答率(テスト) = 0.469\n",
            "Generation: 1600. 正答率(トレーニング) = 0.66\n",
            "                : 1600. 正答率(テスト) = 0.5367\n",
            "Generation: 1800. 正答率(トレーニング) = 0.5\n",
            "                : 1800. 正答率(テスト) = 0.5582\n",
            "Generation: 2000. 正答率(トレーニング) = 0.65\n",
            "                : 2000. 正答率(テスト) = 0.5682\n"
          ],
          "name": "stdout"
        },
        {
          "output_type": "display_data",
          "data": {
            "image/png": "[encoded data removed]",
            "text/plain": [
              "<Figure size 432x288 with 1 Axes>"
            ]
          },
          "metadata": {
            "tags": [],
            "needs_background": "light"
          }
        },
        {
          "output_type": "execute_result",
          "data": {
            "text/plain": [
              "100"
            ]
          },
          "metadata": {
            "tags": []
          },
          "execution_count": 38
        }
      ]
    },
    {
      "cell_type": "markdown",
      "metadata": {
        "id": "l_UawNH_oXU_"
      },
      "source": [
        "## RMSProp"
      ]
    },
    {
      "cell_type": "code",
      "metadata": {
        "id": "LfBe2GcpoXVB",
        "colab": {
          "base_uri": "https://localhost:8080/",
          "height": 647
        },
        "outputId": "a33e3a7c-ae66-4024-c9de-08e49ff369c8"
      },
      "source": [
        "network = copy.deepcopy(network_init)\n",
        "decay_rate = 0.99\n",
        "\n",
        "train_loss_list = []\n",
        "accuracies_train = []\n",
        "accuracies_test = []\n",
        "iters_num = 1000\n",
        "plot_interval = 100\n",
        "\n",
        "for i in range(iters_num):\n",
        "    batch_mask = np.random.choice(train_size, batch_size)\n",
        "    x_batch = x_train[batch_mask]\n",
        "    d_batch = d_train[batch_mask]\n",
        "\n",
        "    # 勾配\n",
        "    grad = network.gradient(x_batch, d_batch)\n",
        "    if i == 0:\n",
        "        h = {}\n",
        "    for key in ('W1', 'W2', 'W3', 'b1', 'b2', 'b3'):\n",
        "        if i == 0:\n",
        "            h[key] = np.zeros_like(network.params[key])\n",
        "        h[key] *= decay_rate\n",
        "        h[key] += (1 - decay_rate) * np.square(grad[key])\n",
        "        network.params[key] -= learning_rate * grad[key] / (np.sqrt(h[key]) + epsilon)\n",
        "        # network.params[key] -= learning_rate * grad[key] / (np.sqrt(h[key]) + 1e-7)\n",
        "\n",
        "        loss = network.loss(x_batch, d_batch)\n",
        "        train_loss_list.append(loss)                \n",
        "        \n",
        "    if (i + 1) % plot_interval == 0:\n",
        "        accr_test = network.accuracy(x_test, d_test)\n",
        "        accuracies_test.append(accr_test)        \n",
        "        accr_train = network.accuracy(x_batch, d_batch)\n",
        "        accuracies_train.append(accr_train)\n",
        "        \n",
        "        print('Generation: ' + str(i+1) + '. 正答率(トレーニング) = ' + str(accr_train))\n",
        "        print('                : ' + str(i+1) + '. 正答率(テスト) = ' + str(accr_test))\n",
        "\n",
        "# グラフ\n",
        "draw_graph(\"RMSProp\", \"lower right\")"
      ],
      "execution_count": null,
      "outputs": [
        {
          "output_type": "stream",
          "text": [
            "Generation: 100. 正答率(トレーニング) = 0.6\n",
            "                : 100. 正答率(テスト) = 0.5083\n",
            "Generation: 200. 正答率(トレーニング) = 0.74\n",
            "                : 200. 正答率(テスト) = 0.7322\n",
            "Generation: 300. 正答率(トレーニング) = 0.87\n",
            "                : 300. 正答率(テスト) = 0.8449\n",
            "Generation: 400. 正答率(トレーニング) = 0.93\n",
            "                : 400. 正答率(テスト) = 0.8907\n",
            "Generation: 500. 正答率(トレーニング) = 0.91\n",
            "                : 500. 正答率(テスト) = 0.8988\n",
            "Generation: 600. 正答率(トレーニング) = 0.95\n",
            "                : 600. 正答率(テスト) = 0.9056\n",
            "Generation: 700. 正答率(トレーニング) = 0.93\n",
            "                : 700. 正答率(テスト) = 0.9025\n",
            "Generation: 800. 正答率(トレーニング) = 0.99\n",
            "                : 800. 正答率(テスト) = 0.9178\n",
            "Generation: 900. 正答率(トレーニング) = 0.97\n",
            "                : 900. 正答率(テスト) = 0.9198\n",
            "Generation: 1000. 正答率(トレーニング) = 0.99\n",
            "                : 1000. 正答率(テスト) = 0.9265\n"
          ],
          "name": "stdout"
        },
        {
          "output_type": "display_data",
          "data": {
            "image/png": "[encoded data removed]",
            "text/plain": [
              "<Figure size 432x288 with 1 Axes>"
            ]
          },
          "metadata": {
            "tags": [],
            "needs_background": "light"
          }
        }
      ]
    },
    {
      "cell_type": "markdown",
      "metadata": {
        "id": "b8AuEm-YoXVD"
      },
      "source": [
        "## Adam"
      ]
    },
    {
      "cell_type": "code",
      "metadata": {
        "id": "pLDbV89JoXVE",
        "colab": {
          "base_uri": "https://localhost:8080/",
          "height": 647
        },
        "outputId": "f8489a21-2165-4e89-b2f7-51322e26e29b"
      },
      "source": [
        "network = copy.deepcopy(network_init)\n",
        "beta1 = 0.9\n",
        "beta2 = 0.999\n",
        "\n",
        "train_loss_list = []\n",
        "accuracies_train = []\n",
        "accuracies_test = []\n",
        "\n",
        "for i in range(iters_num):\n",
        "    batch_mask = np.random.choice(train_size, batch_size)\n",
        "    x_batch = x_train[batch_mask]\n",
        "    d_batch = d_train[batch_mask]\n",
        "\n",
        "    # 勾配\n",
        "    grad = network.gradient(x_batch, d_batch)\n",
        "    if i == 0:\n",
        "        m = {}\n",
        "        v = {}\n",
        "    learning_rate_t  = learning_rate * np.sqrt(1.0 - beta2 ** (i + 1)) / (1.0 - beta1 ** (i + 1))    \n",
        "    for key in ('W1', 'W2', 'W3', 'b1', 'b2', 'b3'):\n",
        "        if i == 0:\n",
        "            m[key] = np.zeros_like(network.params[key])\n",
        "            v[key] = np.zeros_like(network.params[key])\n",
        "            \n",
        "        m[key] += (1 - beta1) * (grad[key] - m[key])\n",
        "        v[key] += (1 - beta2) * (grad[key] ** 2 - v[key])            \n",
        "        network.params[key] -= learning_rate_t * m[key] / (np.sqrt(v[key]) + epsilon)\n",
        "        \n",
        "        \n",
        "    if (i + 1) % plot_interval == 0:\n",
        "        accr_test = network.accuracy(x_test, d_test)\n",
        "        accuracies_test.append(accr_test)        \n",
        "        accr_train = network.accuracy(x_batch, d_batch)\n",
        "        accuracies_train.append(accr_train)\n",
        "        loss = network.loss(x_batch, d_batch)\n",
        "        train_loss_list.append(loss)        \n",
        "        \n",
        "        print('Generation: ' + str(i+1) + '. 正答率(トレーニング) = ' + str(accr_train))\n",
        "        print('                : ' + str(i+1) + '. 正答率(テスト) = ' + str(accr_test))\n",
        "                \n",
        "# グラフ\n",
        "draw_graph(\"Adam\", \"lower right\")"
      ],
      "execution_count": null,
      "outputs": [
        {
          "output_type": "stream",
          "text": [
            "Generation: 100. 正答率(トレーニング) = 0.38\n",
            "                : 100. 正答率(テスト) = 0.327\n",
            "Generation: 200. 正答率(トレーニング) = 0.68\n",
            "                : 200. 正答率(テスト) = 0.6393\n",
            "Generation: 300. 正答率(トレーニング) = 0.92\n",
            "                : 300. 正答率(テスト) = 0.8906\n",
            "Generation: 400. 正答率(トレーニング) = 0.89\n",
            "                : 400. 正答率(テスト) = 0.917\n",
            "Generation: 500. 正答率(トレーニング) = 0.89\n",
            "                : 500. 正答率(テスト) = 0.9279\n",
            "Generation: 600. 正答率(トレーニング) = 0.97\n",
            "                : 600. 正答率(テスト) = 0.9346\n",
            "Generation: 700. 正答率(トレーニング) = 0.98\n",
            "                : 700. 正答率(テスト) = 0.9364\n",
            "Generation: 800. 正答率(トレーニング) = 0.97\n",
            "                : 800. 正答率(テスト) = 0.9418\n",
            "Generation: 900. 正答率(トレーニング) = 0.95\n",
            "                : 900. 正答率(テスト) = 0.9429\n",
            "Generation: 1000. 正答率(トレーニング) = 0.94\n",
            "                : 1000. 正答率(テスト) = 0.9452\n"
          ],
          "name": "stdout"
        },
        {
          "output_type": "display_data",
          "data": {
            "image/png": "[encoded data removed]",
            "text/plain": [
              "<Figure size 432x288 with 1 Axes>"
            ]
          },
          "metadata": {
            "tags": [],
            "needs_background": "light"
          }
        }
      ]
    }
  ]
}