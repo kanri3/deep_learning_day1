{
  "nbformat": 4,
  "nbformat_minor": 0,
  "metadata": {
    "kernelspec": {
      "name": "python3",
      "display_name": "Python 3"
    },
    "language_info": {
      "codemirror_mode": {
        "name": "ipython",
        "version": 3
      },
      "file_extension": ".py",
      "mimetype": "text/x-python",
      "name": "python",
      "nbconvert_exporter": "python",
      "pygments_lexer": "ipython3",
      "version": "3.6.3"
    },
    "colab": {
      "name": "2_1_3_batch_normalization_hands_on.ipynb",
      "provenance": [],
      "collapsed_sections": [],
      "include_colab_link": true
    }
  },
  "cells": [
    {
      "cell_type": "markdown",
      "metadata": {
        "id": "view-in-github",
        "colab_type": "text"
      },
      "source": [
        "<a href=\"https://colab.research.google.com/github/kanri3/deep_learning_day1_day2/blob/main/2_1_3_batch_normalization_hands_on.ipynb\" target=\"_parent\"><img src=\"https://colab.research.google.com/assets/colab-badge.svg\" alt=\"Open In Colab\"/></a>"
      ]
    },
    {
      "cell_type": "markdown",
      "metadata": {
        "id": "8cNl2QA_Rnv5"
      },
      "source": [
        "# 準備"
      ]
    },
    {
      "cell_type": "markdown",
      "metadata": {
        "id": "YkwjN1jNVAYy"
      },
      "source": [
        "## Googleドライブのマウント"
      ]
    },
    {
      "cell_type": "code",
      "metadata": {
        "id": "pvFXpiH3EVC1",
        "colab": {
          "base_uri": "https://localhost:8080/"
        },
        "outputId": "a7a4f870-1697-4d98-d8f4-186be6846f0f"
      },
      "source": [
        "from google.colab import drive\n",
        "drive.mount('/content/drive')"
      ],
      "execution_count": null,
      "outputs": [
        {
          "output_type": "stream",
          "text": [
            "Drive already mounted at /content/drive; to attempt to forcibly remount, call drive.mount(\"/content/drive\", force_remount=True).\n"
          ],
          "name": "stdout"
        }
      ]
    },
    {
      "cell_type": "markdown",
      "metadata": {
        "id": "3Ub7RYdeY6pK"
      },
      "source": [
        "## sys.pathの設定"
      ]
    },
    {
      "cell_type": "markdown",
      "metadata": {
        "id": "oql7L19rEsWi"
      },
      "source": [
        "以下では，Googleドライブのマイドライブ直下にDNN_codeフォルダを置くことを仮定しています．必要に応じて，パスを変更してください．"
      ]
    },
    {
      "cell_type": "code",
      "metadata": {
        "id": "7Ic2JzkvFX59"
      },
      "source": [
        "import sys\n",
        "sys.path.append('/content/drive/My Drive/DNN_code')\n",
        "# sys.path.append('/content/drive/My Drive/DNN_code/lesson_2')"
      ],
      "execution_count": null,
      "outputs": []
    },
    {
      "cell_type": "markdown",
      "metadata": {
        "id": "DmeANLBkk5jy"
      },
      "source": [
        "# batch normalization"
      ]
    },
    {
      "cell_type": "code",
      "metadata": {
        "id": "F5NVcAVZk5jz"
      },
      "source": [
        "import numpy as np\n",
        "from collections import OrderedDict\n",
        "from common import layers\n",
        "from data.mnist import load_mnist\n",
        "import matplotlib.pyplot as plt\n",
        "from common.multi_layer_net import MultiLayerNet\n",
        "# from multi_layer_net import MultiLayerNet\n",
        "from common import optimizer\n",
        "\n",
        "# バッチ正則化 layer\n",
        "class BatchNormalization:\n",
        "    '''\n",
        "    gamma: スケール係数\n",
        "    beta: オフセット\n",
        "    momentum: 慣性\n",
        "    running_mean: テスト時に使用する平均\n",
        "    running_var: テスト時に使用する分散\n",
        "    '''\n",
        "    def __init__(self, gamma, beta, momentum=0.9, running_mean=None, running_var=None):\n",
        "        self.gamma = gamma\n",
        "        self.beta = beta\n",
        "        self.momentum = momentum\n",
        "        self.input_shape = None\n",
        "\n",
        "        self.running_mean = running_mean\n",
        "        self.running_var = running_var  \n",
        "        \n",
        "        # backward時に使用する中間データ\n",
        "        self.batch_size = None\n",
        "        self.xc = None\n",
        "        self.std = None\n",
        "        self.dgamma = None\n",
        "        self.dbeta = None\n",
        "\n",
        "    def forward(self, x, train_flg=True):\n",
        "        if self.running_mean is None:\n",
        "            N, D = x.shape\n",
        "            self.running_mean = np.zeros(D)\n",
        "            self.running_var = np.zeros(D)\n",
        "                        \n",
        "        if train_flg:\n",
        "            mu = x.mean(axis=0) # 平均\n",
        "            xc = x - mu # xをセンタリング\n",
        "            var = np.mean(xc**2, axis=0) # 分散\n",
        "            std = np.sqrt(var + 10e-7) # スケーリング\n",
        "            xn = xc / std\n",
        "            \n",
        "            self.batch_size = x.shape[0]\n",
        "            self.xc = xc\n",
        "            self.xn = xn\n",
        "            self.std = std\n",
        "            self.running_mean = self.momentum * self.running_mean + (1-self.momentum) * mu # 平均値の加重平均\n",
        "            self.running_var = self.momentum * self.running_var + (1-self.momentum) * var #分散値の加重平均\n",
        "        else:\n",
        "            xc = x - self.running_mean\n",
        "            xn = xc / ((np.sqrt(self.running_var + 10e-7)))\n",
        "            \n",
        "        out = self.gamma * xn + self.beta \n",
        "        \n",
        "        return out\n",
        "\n",
        "    def backward(self, dout):\n",
        "        dbeta = dout.sum(axis=0)\n",
        "        dgamma = np.sum(self.xn * dout, axis=0)\n",
        "        dxn = self.gamma * dout\n",
        "        dxc = dxn / self.std\n",
        "        dstd = -np.sum((dxn * self.xc) / (self.std * self.std), axis=0)\n",
        "        dvar = 0.5 * dstd / self.std\n",
        "        dxc += (2.0 / self.batch_size) * self.xc * dvar\n",
        "        dmu = np.sum(dxc, axis=0)\n",
        "        dx = dxc - dmu / self.batch_size\n",
        "        \n",
        "        self.dgamma = dgamma\n",
        "        self.dbeta = dbeta\n",
        "\n",
        "        return dx    \n"
      ],
      "execution_count": null,
      "outputs": []
    },
    {
      "cell_type": "code",
      "metadata": {
        "id": "0PafCcEZk5j2",
        "colab": {
          "base_uri": "https://localhost:8080/",
          "height": 665
        },
        "outputId": "8ed16593-5d8d-4e6f-cffd-311538d683b3"
      },
      "source": [
        "(x_train, d_train), (x_test, d_test) = load_mnist(normalize=True)\n",
        "\n",
        "print(\"データ読み込み完了\")\n",
        "\n",
        "\n",
        "# batch_normalizationの設定 =======================\n",
        "use_batchnorm = True\n",
        "# use_batchnorm = False\n",
        "# ====================================================\n",
        "\n",
        "network = MultiLayerNet(input_size=784, hidden_size_list=[40, 20], output_size=10,\n",
        "                        activation='sigmoid', weight_init_std='Xavier', use_batchnorm=use_batchnorm)\n",
        "\n",
        "iters_num = 1000\n",
        "train_size = x_train.shape[0]\n",
        "batch_size = 100\n",
        "learning_rate=0.01\n",
        "\n",
        "train_loss_list = []\n",
        "accuracies_train = []\n",
        "accuracies_test = []\n",
        "\n",
        "plot_interval=100\n",
        "\n",
        "\n",
        "for i in range(iters_num):\n",
        "    batch_mask = np.random.choice(train_size, batch_size)\n",
        "    x_batch = x_train[batch_mask]\n",
        "    d_batch = d_train[batch_mask]\n",
        "\n",
        "    grad = network.gradient(x_batch, d_batch)\n",
        "    for key in ('W1', 'W2', 'W3', 'b1', 'b2', 'b3'):\n",
        "        network.params[key] -= learning_rate * grad[key]\n",
        "\n",
        "        loss = network.loss(x_batch, d_batch)\n",
        "        train_loss_list.append(loss)        \n",
        "        \n",
        "    if (i + 1) % plot_interval == 0:\n",
        "        accr_test = network.accuracy(x_test, d_test)\n",
        "        accuracies_test.append(accr_test)        \n",
        "        accr_train = network.accuracy(x_batch, d_batch)\n",
        "        accuracies_train.append(accr_train)\n",
        "        \n",
        "        print('Generation: ' + str(i+1) + '. 正答率(トレーニング) = ' + str(accr_train))\n",
        "        print('                : ' + str(i+1) + '. 正答率(テスト) = ' + str(accr_test))\n",
        "                \n",
        "\n",
        "lists = range(0, iters_num, plot_interval)\n",
        "plt.plot(lists, accuracies_train, label=\"training set\")\n",
        "plt.plot(lists, accuracies_test,  label=\"test set\")\n",
        "plt.legend(loc=\"lower right\")\n",
        "plt.title(\"accuracy\")\n",
        "plt.xlabel(\"count\")\n",
        "plt.ylabel(\"accuracy\")\n",
        "plt.ylim(0, 1.0)\n",
        "# グラフの表示\n",
        "plt.show()"
      ],
      "execution_count": null,
      "outputs": [
        {
          "output_type": "stream",
          "text": [
            "データ読み込み完了\n",
            "Generation: 100. 正答率(トレーニング) = 0.47\n",
            "                : 100. 正答率(テスト) = 0.3652\n",
            "Generation: 200. 正答率(トレーニング) = 0.54\n",
            "                : 200. 正答率(テスト) = 0.6005\n",
            "Generation: 300. 正答率(トレーニング) = 0.72\n",
            "                : 300. 正答率(テスト) = 0.6986\n",
            "Generation: 400. 正答率(トレーニング) = 0.68\n",
            "                : 400. 正答率(テスト) = 0.7347\n",
            "Generation: 500. 正答率(トレーニング) = 0.73\n",
            "                : 500. 正答率(テスト) = 0.7555\n",
            "Generation: 600. 正答率(トレーニング) = 0.68\n",
            "                : 600. 正答率(テスト) = 0.778\n",
            "Generation: 700. 正答率(トレーニング) = 0.81\n",
            "                : 700. 正答率(テスト) = 0.7864\n",
            "Generation: 800. 正答率(トレーニング) = 0.75\n",
            "                : 800. 正答率(テスト) = 0.8023\n",
            "Generation: 900. 正答率(トレーニング) = 0.88\n",
            "                : 900. 正答率(テスト) = 0.8095\n",
            "Generation: 1000. 正答率(トレーニング) = 0.83\n",
            "                : 1000. 正答率(テスト) = 0.8157\n"
          ],
          "name": "stdout"
        },
        {
          "output_type": "display_data",
          "data": {
            "image/png": "[encoded data removed]",
            "text/plain": [
              "<Figure size 432x288 with 1 Axes>"
            ]
          },
          "metadata": {
            "tags": [],
            "needs_background": "light"
          }
        }
      ]
    },
    {
      "cell_type": "markdown",
      "metadata": {
        "id": "6hJDgvXhk5j6"
      },
      "source": [
        "----------------------------------------------------------------------------------------------------------------------------------------------------------------------------\n",
        "## [try] 活性化関数や重みの初期値を変えてみよう\n",
        "----------------------------------------------------------------------------------------------------------------------------------------------------------------------------"
      ]
    }
  ]
}