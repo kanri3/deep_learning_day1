{
  "nbformat": 4,
  "nbformat_minor": 0,
  "metadata": {
    "kernelspec": {
      "display_name": "Python 3",
      "language": "python",
      "name": "python3"
    },
    "language_info": {
      "codemirror_mode": {
        "name": "ipython",
        "version": 3
      },
      "file_extension": ".py",
      "mimetype": "text/x-python",
      "name": "python",
      "nbconvert_exporter": "python",
      "pygments_lexer": "ipython3",
      "version": "3.6.3"
    },
    "colab": {
      "name": "1_1_forward_propagation_hands_on.ipynb",
      "provenance": [],
      "collapsed_sections": [],
      "include_colab_link": true
    }
  },
  "cells": [
    {
      "cell_type": "markdown",
      "metadata": {
        "id": "view-in-github",
        "colab_type": "text"
      },
      "source": [
        "<a href=\"https://colab.research.google.com/github/kanri3/deep_learning_day1_day2/blob/main/1_1_forward_propagation_hands_on.ipynb\" target=\"_parent\"><img src=\"https://colab.research.google.com/assets/colab-badge.svg\" alt=\"Open In Colab\"/></a>"
      ]
    },
    {
      "cell_type": "markdown",
      "metadata": {
        "id": "8cNl2QA_Rnv5"
      },
      "source": [
        "# 準備"
      ]
    },
    {
      "cell_type": "markdown",
      "metadata": {
        "id": "k5L0AWliZYng"
      },
      "source": [
        "# importと関数定義"
      ]
    },
    {
      "cell_type": "code",
      "metadata": {
        "id": "R-FDEiMPe3eE"
      },
      "source": [
        "import numpy as np\n",
        "\n",
        "def print_vec(text, vec):\n",
        "    print(\"*** \" + text + \" ***\")\n",
        "    np.set_printoptions(precision=5)\n",
        "    print(vec)\n",
        "    print(\"shape:\", vec.shape)\n",
        "\n",
        "# ReLU関数\n",
        "def relu(x):\n",
        "    return np.maximum(0, x)\n",
        "# 中間層の活性化関数\n",
        "# シグモイド関数（ロジスティック関数）\n",
        "def sigmoid(x):\n",
        "    return 1/(1 + np.exp(-x))\n",
        "# 出力層の活性化関数\n",
        "# ソフトマックス関数\n",
        "def softmax(x):\n",
        "    if x.ndim == 2:\n",
        "        x = x.T\n",
        "        x = x - np.max(x, axis=0)\n",
        "        y = np.exp(x) / np.sum(np.exp(x), axis=0)\n",
        "        return y.T\n",
        "    x = x - np.max(x) # オーバーフロー対策\n",
        "    return np.exp(x) / np.sum(np.exp(x))\n",
        "# クロスエントロピー\n",
        "def cross_entropy_error(d, y):\n",
        "    if y.ndim == 1:\n",
        "        d = d.reshape(1, d.size)\n",
        "        y = y.reshape(1, y.size)\n",
        "    # 教師データがone-hot-vectorの場合、正解ラベルのインデックスに変換\n",
        "    # One-hotベクトルとは、(0,1,0,0,0,0) の様に、1つの成分が1で残りの成分が全て0であるベクトルのこと\n",
        "    if d.size == y.size:\n",
        "        # NumPyのargmax関数は、多次元配列の中の最大値の要素を持つインデックスを返す関数\n",
        "        d = d.argmax(axis=1)\n",
        "    batch_size = y.shape[0]\n",
        "    return -np.sum(np.log(y[np.arange(batch_size), d] + 1e-7)) / batch_size\n",
        "# 誤差関数\n",
        "# 平均二乗誤差\n",
        "def mean_squared_error(d, y):\n",
        "    return np.mean(np.square(d - y)) / 2"
      ],
      "execution_count": null,
      "outputs": []
    },
    {
      "cell_type": "markdown",
      "metadata": {
        "id": "uqIgpdkPe5yR"
      },
      "source": [
        "# 順伝播（単層・単ユニット）"
      ]
    },
    {
      "cell_type": "code",
      "metadata": {
        "scrolled": true,
        "id": "5nwFXP3le3eJ",
        "colab": {
          "base_uri": "https://localhost:8080/"
        },
        "outputId": "4de13301-aa30-46c6-853d-1b2b89d312c1"
      },
      "source": [
        "# 順伝播（単層・単ユニット）\n",
        "\n",
        "# 重み\n",
        "W = np.random.rand(2, 2)\n",
        "# W = np.array([[0.1], [0.2]])\n",
        "print_vec(\"重み\", W)\n",
        "# バイアス\n",
        "b = 0.5\n",
        "print(\"バイアス\", b)\n",
        "# 入力値\n",
        "x = np.array([2, 3])\n",
        "print_vec(\"入力\", x)\n",
        "# 総入力\n",
        "u = x @ W + b\n",
        "print_vec(\"総入力\", u)\n",
        "# 出力\n",
        "z = relu(u)\n",
        "print_vec(\"出力\", z)"
      ],
      "execution_count": null,
      "outputs": [
        {
          "output_type": "stream",
          "text": [
            "*** 重み ***\n",
            "[[0.12491 0.26918]\n",
            " [0.32287 0.01906]]\n",
            "shape: (2, 2)\n",
            "バイアス 0.5\n",
            "*** 入力 ***\n",
            "[2 3]\n",
            "shape: (2,)\n",
            "*** 総入力 ***\n",
            "[1.71842 1.09554]\n",
            "shape: (2,)\n",
            "*** 出力 ***\n",
            "[1.71842 1.09554]\n",
            "shape: (2,)\n"
          ],
          "name": "stdout"
        }
      ]
    },
    {
      "cell_type": "markdown",
      "metadata": {
        "id": "FpOvW2Ple-zS"
      },
      "source": [
        "# 順伝播（単層・複数ユニット）\n"
      ]
    },
    {
      "cell_type": "code",
      "metadata": {
        "id": "kUxj9ZGWe3eL",
        "colab": {
          "base_uri": "https://localhost:8080/"
        },
        "outputId": "73af7741-25dc-4c09-88a6-c121c68a7332"
      },
      "source": [
        "# 順伝播（単層・複数ユニット）\n",
        "\n",
        "# 重み\n",
        "W = np.array([\n",
        "    [0.1, 0.2, 0.3], \n",
        "    [0.2, 0.3, 0.4], \n",
        "    [0.3, 0.4, 0.5],\n",
        "    [0.4, 0.5, 0.6]\n",
        "])\n",
        "print_vec(\"重み\", W)\n",
        "# バイアス\n",
        "b = np.array([0.1, 0.2, 0.3])\n",
        "print_vec(\"バイアス\", b)\n",
        "# 入力値\n",
        "x = np.array([1.0, 5.0, 2.0, -1.0])\n",
        "print_vec(\"入力\", x)\n",
        "#  総入力\n",
        "u = x @ W + b\n",
        "print_vec(\"総入力\", u)\n",
        "# 出力\n",
        "z = sigmoid(u)\n",
        "print_vec(\"出力\", z)"
      ],
      "execution_count": null,
      "outputs": [
        {
          "output_type": "stream",
          "text": [
            "*** 重み ***\n",
            "[[0.1 0.2 0.3]\n",
            " [0.2 0.3 0.4]\n",
            " [0.3 0.4 0.5]\n",
            " [0.4 0.5 0.6]]\n",
            "shape: (4, 3)\n",
            "*** バイアス ***\n",
            "[0.1 0.2 0.3]\n",
            "shape: (3,)\n",
            "*** 入力 ***\n",
            "[ 1.  5.  2. -1.]\n",
            "shape: (4,)\n",
            "*** 総入力 ***\n",
            "[1.4 2.2 3. ]\n",
            "shape: (3,)\n",
            "*** 出力 ***\n",
            "[0.80218 0.90025 0.95257]\n",
            "shape: (3,)\n"
          ],
          "name": "stdout"
        }
      ]
    },
    {
      "cell_type": "markdown",
      "metadata": {
        "id": "75hN-MtofBBE"
      },
      "source": [
        "# 順伝播（3層・複数ユニット）"
      ]
    },
    {
      "cell_type": "code",
      "metadata": {
        "id": "SrWWI-XXe3eO",
        "colab": {
          "base_uri": "https://localhost:8080/"
        },
        "outputId": "cdac4b08-84af-4532-c7a1-65952169037d"
      },
      "source": [
        "# 順伝播（3層・複数ユニット）\n",
        "\n",
        "# ウェイトとバイアスを設定\n",
        "# ネートワークを作成\n",
        "def init_network():\n",
        "    print(\"##### ネットワークの初期化 #####\")\n",
        "    network = {}\n",
        "    \n",
        "    network['W1'] = np.array([\n",
        "        [0.1, 0.3, 0.5],\n",
        "        [0.2, 0.4, 0.6]\n",
        "    ])\n",
        "    network['W2'] = np.array([\n",
        "        [0.1, 0.4],\n",
        "        [0.2, 0.5],\n",
        "        [0.3, 0.6]\n",
        "    ])\n",
        "    network['W3'] = np.array([\n",
        "        [0.1, 0.3],\n",
        "        [0.2, 0.4]\n",
        "    ])\n",
        "    network['b1'] = np.array([0.1, 0.2, 0.3])\n",
        "    network['b2'] = np.array([0.1, 0.2])\n",
        "    network['b3'] = np.array([1, 2])\n",
        "\n",
        "    print_vec(\"重み1\", network['W1'] )\n",
        "    print_vec(\"重み2\", network['W2'] )\n",
        "    print_vec(\"重み3\", network['W3'] )\n",
        "    print_vec(\"バイアス1\", network['b1'] )\n",
        "    print_vec(\"バイアス2\", network['b2'] )\n",
        "    print_vec(\"バイアス3\", network['b3'] )\n",
        "    return network\n",
        "\n",
        "# プロセスを作成\n",
        "# x：入力値\n",
        "def forward(network, x):\n",
        "    \n",
        "    print(\"##### 順伝播開始 #####\")\n",
        "    W1, W2, W3 = network['W1'], network['W2'], network['W3']\n",
        "    b1, b2, b3 = network['b1'], network['b2'], network['b3']\n",
        "    \n",
        "    # 1層の総入力\n",
        "    u1 = x @ W1 + b1\n",
        "    # 1層の総出力\n",
        "    z1 = relu(u1)\n",
        "    # 2層の総入力\n",
        "    u2 = z1 @ W2 + b2\n",
        "    # 2層の総出力\n",
        "    z2 = relu(u2)\n",
        "    # 出力層の総入力\n",
        "    u3 = z2 @ W3 + b3\n",
        "    # 出力層の総出力\n",
        "    y = u3\n",
        "    \n",
        "    print_vec(\"総入力1\", u1)\n",
        "    print_vec(\"総出力1\", z1)\n",
        "    print_vec(\"総入力2\", u2)\n",
        "    print_vec(\"総出力2\", z2)\n",
        "    # print_vec(\"出力1\", z1)\n",
        "    print_vec(\"総出力3\", u3)\n",
        "    return y, z1, z2\n",
        "\n",
        "# 入力値\n",
        "x = np.array([1., 2.])\n",
        "print_vec(\"入力\", x)\n",
        "\n",
        "# ネットワークの初期化\n",
        "network =  init_network()\n",
        "\n",
        "y, z1, z2 = forward(network, x)"
      ],
      "execution_count": null,
      "outputs": [
        {
          "output_type": "stream",
          "text": [
            "*** 入力 ***\n",
            "[1. 2.]\n",
            "shape: (2,)\n",
            "##### ネットワークの初期化 #####\n",
            "*** 重み1 ***\n",
            "[[0.1 0.3 0.5]\n",
            " [0.2 0.4 0.6]]\n",
            "shape: (2, 3)\n",
            "*** 重み2 ***\n",
            "[[0.1 0.4]\n",
            " [0.2 0.5]\n",
            " [0.3 0.6]]\n",
            "shape: (3, 2)\n",
            "*** 重み3 ***\n",
            "[[0.1 0.3]\n",
            " [0.2 0.4]]\n",
            "shape: (2, 2)\n",
            "*** バイアス1 ***\n",
            "[0.1 0.2 0.3]\n",
            "shape: (3,)\n",
            "*** バイアス2 ***\n",
            "[0.1 0.2]\n",
            "shape: (2,)\n",
            "*** バイアス3 ***\n",
            "[1 2]\n",
            "shape: (2,)\n",
            "##### 順伝播開始 #####\n",
            "*** 総入力1 ***\n",
            "[0.6 1.3 2. ]\n",
            "shape: (3,)\n",
            "*** 総出力1 ***\n",
            "[0.6 1.3 2. ]\n",
            "shape: (3,)\n",
            "*** 総入力2 ***\n",
            "[1.02 2.29]\n",
            "shape: (2,)\n",
            "*** 総出力2 ***\n",
            "[1.02 2.29]\n",
            "shape: (2,)\n",
            "*** 総出力3 ***\n",
            "[1.56  3.222]\n",
            "shape: (2,)\n"
          ],
          "name": "stdout"
        }
      ]
    },
    {
      "cell_type": "markdown",
      "metadata": {
        "id": "7Np6NwxQfFas"
      },
      "source": [
        "# 多クラス分類（3-5-4ネットワーク）"
      ]
    },
    {
      "cell_type": "code",
      "metadata": {
        "id": "8uypKa5Re3eQ",
        "colab": {
          "base_uri": "https://localhost:8080/"
        },
        "outputId": "5e1b2e88-18dc-4216-cb63-d65c9e8150e0"
      },
      "source": [
        "# 多クラス分類\n",
        "# 2-3-4ネットワーク\n",
        "# ！試してみよう_ノードの構成を 3-5-4 に変更してみよう\n",
        "# ウェイトとバイアスを設定\n",
        "# ネートワークを作成\n",
        "def init_network():\n",
        "    print(\"##### ネットワークの初期化 #####\")\n",
        "    network = {}\n",
        "    # network['W1'] = np.array([\n",
        "    #     [0.1, 0.3, 0.5],\n",
        "    #     [0.2, 0.4, 0.6]\n",
        "    # ])\n",
        "    network['W1'] = np.random.rand(3, 5)\n",
        "    # network['W2'] = np.array([\n",
        "    #     [0.1, 0.4, 0.7, 1.0],\n",
        "    #     [0.2, 0.5, 0.8, 1.1],\n",
        "    #     [0.3, 0.6, 0.9, 1.2]\n",
        "    # ])\n",
        "    network['W2'] = np.random.rand(5, 4)\n",
        "    network['b1'] = np.random.rand(5)\n",
        "    network['b2'] = np.random.rand(4)\n",
        "    # network['b1'] = np.array([0.1, 0.2, 0.3])\n",
        "    # network['b2'] = np.array([0.1, 0.2, 0.3, 0.4])\n",
        "    \n",
        "    print_vec(\"重み1\", network['W1'] )\n",
        "    print_vec(\"重み2\", network['W2'] )\n",
        "    print_vec(\"バイアス1\", network['b1'] )\n",
        "    print_vec(\"バイアス2\", network['b2'] )\n",
        "    return network\n",
        "\n",
        "# プロセスを作成\n",
        "# x：入力値\n",
        "def forward(network, x):\n",
        "    print(\"##### 順伝播開始 #####\")\n",
        "    W1, W2 = network['W1'], network['W2']\n",
        "    b1, b2 = network['b1'], network['b2']\n",
        "    # 1層の総入力\n",
        "    u1 = x @ W1 + b1\n",
        "    # 1層の総出力\n",
        "    z1 = relu(u1)\n",
        "    # 2層の総入力\n",
        "    u2 = z1 @ W2 + b2\n",
        "    # 出力値\n",
        "    y = softmax(u2)\n",
        "    \n",
        "    print_vec(\"総入力1\", u1)\n",
        "    print_vec(\"中間層出力1\", z1)\n",
        "    print_vec(\"総入力2\", u2)\n",
        "    print_vec(\"出力1\", y)\n",
        "    print(\"出力合計: \" + str(np.sum(y)))\n",
        "    return y, z1\n",
        "\n",
        "## 事前データ\n",
        "# 入力値\n",
        "x = np.array([1., 2., 3.])\n",
        "# 目標出力\n",
        "d = np.array([0, 0, 0, 1])\n",
        "# ネットワークの初期化\n",
        "network =  init_network()\n",
        "# 出力\n",
        "y, z1 = forward(network, x)\n",
        "# 誤差\n",
        "loss = cross_entropy_error(d, y)\n",
        "## 表示\n",
        "print(\"\\n##### 結果表示 #####\")\n",
        "print_vec(\"出力\", y)\n",
        "print_vec(\"訓練データ\", d)\n",
        "print_vec(\"誤差\",  loss)"
      ],
      "execution_count": null,
      "outputs": [
        {
          "output_type": "stream",
          "text": [
            "##### ネットワークの初期化 #####\n",
            "*** 重み1 ***\n",
            "[[6.74397e-01 7.74623e-01 8.74956e-01 1.20238e-01 4.43137e-01]\n",
            " [7.21037e-01 8.31755e-02 1.97000e-01 1.97633e-01 3.09048e-04]\n",
            " [5.75091e-01 5.65420e-01 4.07573e-01 1.56002e-01 1.49956e-01]]\n",
            "shape: (3, 5)\n",
            "*** 重み2 ***\n",
            "[[0.85147 0.042   0.72184 0.2027 ]\n",
            " [0.80207 0.89257 0.19651 0.58325]\n",
            " [0.4738  0.8478  0.70523 0.03044]\n",
            " [0.54435 0.29763 0.12654 0.4647 ]\n",
            " [0.09969 0.97487 0.14187 0.67758]]\n",
            "shape: (5, 4)\n",
            "*** バイアス1 ***\n",
            "[0.49125 0.06139 0.13722 0.97976 0.53021]\n",
            "shape: (5,)\n",
            "*** バイアス2 ***\n",
            "[0.76399 0.35863 0.69885 0.59135]\n",
            "shape: (4,)\n",
            "##### 順伝播開始 #####\n",
            "*** 総入力1 ***\n",
            "[4.33299 2.69862 2.6289  1.96327 1.42384]\n",
            "shape: (5,)\n",
            "*** 中間層出力1 ***\n",
            "[4.33299 2.69862 2.6289  1.96327 1.42384]\n",
            "shape: (5,)\n",
            "*** 総入力2 ***\n",
            "[9.0741  7.1505  6.66128 5.00073]\n",
            "shape: (4,)\n",
            "*** 出力1 ***\n",
            "[0.7983  0.11662 0.0715  0.01359]\n",
            "shape: (4,)\n",
            "出力合計: 1.0\n",
            "\n",
            "##### 結果表示 #####\n",
            "*** 出力 ***\n",
            "[0.7983  0.11662 0.0715  0.01359]\n",
            "shape: (4,)\n",
            "*** 訓練データ ***\n",
            "[0 0 0 1]\n",
            "shape: (4,)\n",
            "*** 誤差 ***\n",
            "4.2986282099492445\n",
            "shape: ()\n"
          ],
          "name": "stdout"
        }
      ]
    },
    {
      "cell_type": "markdown",
      "metadata": {
        "id": "pN2ldtNRfL-r"
      },
      "source": [
        "# 回帰（2-3-2ネットワーク）"
      ]
    },
    {
      "cell_type": "code",
      "metadata": {
        "id": "AwigBRlBe3eS",
        "colab": {
          "base_uri": "https://localhost:8080/"
        },
        "outputId": "f0aac0ab-083b-4783-e742-a1ea1f7b9547"
      },
      "source": [
        "# 回帰\n",
        "\n",
        "# ウェイトとバイアスを設定\n",
        "# ネートワークを作成\n",
        "def init_network():\n",
        "    print(\"##### ネットワークの初期化 #####\")\n",
        "\n",
        "    network = {}\n",
        "    # network['W1'] = np.random.rand(2, 3)\n",
        "    network['W1'] = np.array([\n",
        "        [0.1, 0.3, 0.5],\n",
        "        [0.2, 0.4, 0.6]\n",
        "    ])\n",
        "    # network['W2'] = np.random.rand(3, 2)\n",
        "    network['W2'] = np.array([\n",
        "        [0.1, 0.4],\n",
        "        [0.2, 0.5],\n",
        "        [0.3, 0.6]\n",
        "    ])\n",
        "    # network['b1'] = np.random.rand(3)\n",
        "    # network['b2'] = np.random.rand(2)\n",
        "    network['b1'] = np.array([0.1, 0.2, 0.3])\n",
        "    network['b2'] = np.array([0.1, 0.2])\n",
        "    \n",
        "    print_vec(\"重み1\", network['W1'] )\n",
        "    print_vec(\"重み2\", network['W2'] )\n",
        "    print_vec(\"バイアス1\", network['b1'] )\n",
        "    print_vec(\"バイアス2\", network['b2'] )\n",
        "    return network\n",
        "\n",
        "# プロセスを作成\n",
        "def forward(network, x):\n",
        "    print(\"##### 順伝播開始 #####\")\n",
        "    \n",
        "    W1, W2 = network['W1'], network['W2']\n",
        "    b1, b2 = network['b1'], network['b2']\n",
        "    # 隠れ層の総入力\n",
        "    u1 = x @ W1 + b1\n",
        "    # 隠れ層の総出力\n",
        "    z1 = relu(u1)\n",
        "    # 出力層の総入力\n",
        "    u2 = z1 @ W2 + b2\n",
        "    # 出力層の総出力\n",
        "    y = u2\n",
        "    \n",
        "    print_vec(\"総入力1\", u1)\n",
        "    print_vec(\"中間層出力1\", z1)\n",
        "    print_vec(\"総入力2\", u2)\n",
        "    print_vec(\"出力\", y)\n",
        "    print(\"出力合計: \" + str(np.sum(z1)))\n",
        "    return y, z1\n",
        "\n",
        "# 入力値\n",
        "x = np.array([1., 2.])\n",
        "network =  init_network()\n",
        "y, z1 = forward(network, x)\n",
        "# 目標出力\n",
        "d = x\n",
        "# d = np.array([2., 4., 6.])\n",
        "# 誤差\n",
        "loss = mean_squared_error(d, y)\n",
        "print(\"loss.shape:\", loss.shape)\n",
        "print(\"type(loss):\", type(loss))\n",
        "## 表示\n",
        "print(\"\\n##### 結果表示 #####\")\n",
        "print_vec(\"中間層出力\", z1)\n",
        "print_vec(\"出力\", y)\n",
        "print_vec(\"訓練データ\", d)\n",
        "print_vec(\"誤差\",  loss)"
      ],
      "execution_count": null,
      "outputs": [
        {
          "output_type": "stream",
          "text": [
            "##### ネットワークの初期化 #####\n",
            "*** 重み1 ***\n",
            "[[0.1 0.3 0.5]\n",
            " [0.2 0.4 0.6]]\n",
            "shape: (2, 3)\n",
            "*** 重み2 ***\n",
            "[[0.1 0.4]\n",
            " [0.2 0.5]\n",
            " [0.3 0.6]]\n",
            "shape: (3, 2)\n",
            "*** バイアス1 ***\n",
            "[0.1 0.2 0.3]\n",
            "shape: (3,)\n",
            "*** バイアス2 ***\n",
            "[0.1 0.2]\n",
            "shape: (2,)\n",
            "##### 順伝播開始 #####\n",
            "*** 総入力1 ***\n",
            "[0.6 1.3 2. ]\n",
            "shape: (3,)\n",
            "*** 中間層出力1 ***\n",
            "[0.6 1.3 2. ]\n",
            "shape: (3,)\n",
            "*** 総入力2 ***\n",
            "[1.02 2.29]\n",
            "shape: (2,)\n",
            "*** 出力 ***\n",
            "[1.02 2.29]\n",
            "shape: (2,)\n",
            "出力合計: 3.9\n",
            "loss.shape: ()\n",
            "type(loss): <class 'numpy.float64'>\n",
            "\n",
            "##### 結果表示 #####\n",
            "*** 中間層出力 ***\n",
            "[0.6 1.3 2. ]\n",
            "shape: (3,)\n",
            "*** 出力 ***\n",
            "[1.02 2.29]\n",
            "shape: (2,)\n",
            "*** 訓練データ ***\n",
            "[1. 2.]\n",
            "shape: (2,)\n",
            "*** 誤差 ***\n",
            "0.021125000000000005\n",
            "shape: ()\n"
          ],
          "name": "stdout"
        }
      ]
    },
    {
      "cell_type": "markdown",
      "metadata": {
        "id": "w0anM_0RfQqj"
      },
      "source": [
        "# 2値分類（2-3-1ネットワーク）"
      ]
    },
    {
      "cell_type": "code",
      "metadata": {
        "id": "Zm2-u-UNe3eU",
        "colab": {
          "base_uri": "https://localhost:8080/"
        },
        "outputId": "9d1f3b08-8a46-46b4-ed5a-84ffce5e4f05"
      },
      "source": [
        "# 2値分類\n",
        "# 2-3-1ネットワーク\n",
        "\n",
        "# ！試してみよう_ノードの構成を 5-10-1 に変更してみよう\n",
        "\n",
        "# ウェイトとバイアスを設定\n",
        "# ネートワークを作成\n",
        "def init_network():\n",
        "    print(\"##### ネットワークの初期化 #####\")\n",
        "\n",
        "    network = {}\n",
        "    network['W1'] = np.array([\n",
        "        [0.1, 0.3, 0.5],\n",
        "        [0.2, 0.4, 0.6]\n",
        "    ])\n",
        "    network['W2'] = np.array([\n",
        "        [0.2],\n",
        "        [0.4],\n",
        "        [0.6]\n",
        "    ])\n",
        "    network['b1'] = np.array([0.1, 0.2, 0.3])\n",
        "    network['b2'] = np.array([0.1])\n",
        "    return network\n",
        "\n",
        "# プロセスを作成\n",
        "def forward(network, x):\n",
        "    print(\"##### 順伝播開始 #####\")\n",
        "    \n",
        "    W1, W2 = network['W1'], network['W2']\n",
        "    b1, b2 = network['b1'], network['b2']    \n",
        "\n",
        "    # 隠れ層の総入力\n",
        "    u1 = x @ W1 + b1\n",
        "    # 隠れ層の総出力\n",
        "    z1 = relu(u1)\n",
        "    # 出力層の総入力\n",
        "    u2 = z1 @ W2 + b2\n",
        "    # 出力層の総出力\n",
        "    y = sigmoid(u2)\n",
        "            \n",
        "    print_vec(\"総入力1\", u1)\n",
        "    print_vec(\"中間層出力1\", z1)\n",
        "    print_vec(\"総入力2\", u2)\n",
        "    print_vec(\"出力1\", y)\n",
        "    print(\"出力合計: \" + str(np.sum(z1)))\n",
        "    return y, z1\n",
        "\n",
        "# 入力値\n",
        "x = np.array([1., 2.])\n",
        "# 目標出力\n",
        "d = np.array([1])\n",
        "network =  init_network()\n",
        "y, z1 = forward(network, x)\n",
        "# 誤差\n",
        "loss = cross_entropy_error(d, y)\n",
        "\n",
        "## 表示\n",
        "print(\"\\n##### 結果表示 #####\")\n",
        "print_vec(\"中間層出力\", z1)\n",
        "print_vec(\"出力\", y)\n",
        "print_vec(\"訓練データ\", d)\n",
        "print_vec(\"誤差\",  loss)"
      ],
      "execution_count": null,
      "outputs": [
        {
          "output_type": "stream",
          "text": [
            "##### ネットワークの初期化 #####\n",
            "##### 順伝播開始 #####\n",
            "*** 総入力1 ***\n",
            "[0.6 1.3 2. ]\n",
            "shape: (3,)\n",
            "*** 中間層出力1 ***\n",
            "[0.6 1.3 2. ]\n",
            "shape: (3,)\n",
            "*** 総入力2 ***\n",
            "[1.94]\n",
            "shape: (1,)\n",
            "*** 出力1 ***\n",
            "[0.87435]\n",
            "shape: (1,)\n",
            "出力合計: 3.9\n",
            "\n",
            "##### 結果表示 #####\n",
            "*** 中間層出力 ***\n",
            "[0.6 1.3 2. ]\n",
            "shape: (3,)\n",
            "*** 出力 ***\n",
            "[0.87435]\n",
            "shape: (1,)\n",
            "*** 訓練データ ***\n",
            "[1]\n",
            "shape: (1,)\n",
            "*** 誤差 ***\n",
            "0.13427195993720972\n",
            "shape: ()\n"
          ],
          "name": "stdout"
        }
      ]
    }
  ]
}